{
 "cells": [
  {
   "cell_type": "code",
   "execution_count": 1,
   "metadata": {},
   "outputs": [
    {
     "data": {
      "text/html": [
       "<div>\n",
       "<style scoped>\n",
       "    .dataframe tbody tr th:only-of-type {\n",
       "        vertical-align: middle;\n",
       "    }\n",
       "\n",
       "    .dataframe tbody tr th {\n",
       "        vertical-align: top;\n",
       "    }\n",
       "\n",
       "    .dataframe thead th {\n",
       "        text-align: right;\n",
       "    }\n",
       "</style>\n",
       "<table border=\"1\" class=\"dataframe\">\n",
       "  <thead>\n",
       "    <tr style=\"text-align: right;\">\n",
       "      <th></th>\n",
       "      <th>play_id</th>\n",
       "      <th>game_id</th>\n",
       "      <th>home_team</th>\n",
       "      <th>away_team</th>\n",
       "      <th>posteam</th>\n",
       "      <th>posteam_type</th>\n",
       "      <th>defteam</th>\n",
       "      <th>side_of_field</th>\n",
       "      <th>yardline_100</th>\n",
       "      <th>game_date</th>\n",
       "      <th>...</th>\n",
       "      <th>penalty_player_id</th>\n",
       "      <th>penalty_player_name</th>\n",
       "      <th>penalty_yards</th>\n",
       "      <th>replay_or_challenge</th>\n",
       "      <th>replay_or_challenge_result</th>\n",
       "      <th>penalty_type</th>\n",
       "      <th>defensive_two_point_attempt</th>\n",
       "      <th>defensive_two_point_conv</th>\n",
       "      <th>defensive_extra_point_attempt</th>\n",
       "      <th>defensive_extra_point_conv</th>\n",
       "    </tr>\n",
       "  </thead>\n",
       "  <tbody>\n",
       "    <tr>\n",
       "      <th>0</th>\n",
       "      <td>46</td>\n",
       "      <td>2009091000</td>\n",
       "      <td>PIT</td>\n",
       "      <td>TEN</td>\n",
       "      <td>PIT</td>\n",
       "      <td>home</td>\n",
       "      <td>TEN</td>\n",
       "      <td>TEN</td>\n",
       "      <td>30.0</td>\n",
       "      <td>2009-09-10</td>\n",
       "      <td>...</td>\n",
       "      <td>NaN</td>\n",
       "      <td>NaN</td>\n",
       "      <td>NaN</td>\n",
       "      <td>0</td>\n",
       "      <td>NaN</td>\n",
       "      <td>NaN</td>\n",
       "      <td>0.0</td>\n",
       "      <td>0.0</td>\n",
       "      <td>0.0</td>\n",
       "      <td>0.0</td>\n",
       "    </tr>\n",
       "    <tr>\n",
       "      <th>1</th>\n",
       "      <td>68</td>\n",
       "      <td>2009091000</td>\n",
       "      <td>PIT</td>\n",
       "      <td>TEN</td>\n",
       "      <td>PIT</td>\n",
       "      <td>home</td>\n",
       "      <td>TEN</td>\n",
       "      <td>PIT</td>\n",
       "      <td>58.0</td>\n",
       "      <td>2009-09-10</td>\n",
       "      <td>...</td>\n",
       "      <td>NaN</td>\n",
       "      <td>NaN</td>\n",
       "      <td>NaN</td>\n",
       "      <td>0</td>\n",
       "      <td>NaN</td>\n",
       "      <td>NaN</td>\n",
       "      <td>0.0</td>\n",
       "      <td>0.0</td>\n",
       "      <td>0.0</td>\n",
       "      <td>0.0</td>\n",
       "    </tr>\n",
       "    <tr>\n",
       "      <th>2</th>\n",
       "      <td>92</td>\n",
       "      <td>2009091000</td>\n",
       "      <td>PIT</td>\n",
       "      <td>TEN</td>\n",
       "      <td>PIT</td>\n",
       "      <td>home</td>\n",
       "      <td>TEN</td>\n",
       "      <td>PIT</td>\n",
       "      <td>53.0</td>\n",
       "      <td>2009-09-10</td>\n",
       "      <td>...</td>\n",
       "      <td>NaN</td>\n",
       "      <td>NaN</td>\n",
       "      <td>NaN</td>\n",
       "      <td>0</td>\n",
       "      <td>NaN</td>\n",
       "      <td>NaN</td>\n",
       "      <td>0.0</td>\n",
       "      <td>0.0</td>\n",
       "      <td>0.0</td>\n",
       "      <td>0.0</td>\n",
       "    </tr>\n",
       "    <tr>\n",
       "      <th>3</th>\n",
       "      <td>113</td>\n",
       "      <td>2009091000</td>\n",
       "      <td>PIT</td>\n",
       "      <td>TEN</td>\n",
       "      <td>PIT</td>\n",
       "      <td>home</td>\n",
       "      <td>TEN</td>\n",
       "      <td>PIT</td>\n",
       "      <td>56.0</td>\n",
       "      <td>2009-09-10</td>\n",
       "      <td>...</td>\n",
       "      <td>NaN</td>\n",
       "      <td>NaN</td>\n",
       "      <td>NaN</td>\n",
       "      <td>0</td>\n",
       "      <td>NaN</td>\n",
       "      <td>NaN</td>\n",
       "      <td>0.0</td>\n",
       "      <td>0.0</td>\n",
       "      <td>0.0</td>\n",
       "      <td>0.0</td>\n",
       "    </tr>\n",
       "    <tr>\n",
       "      <th>4</th>\n",
       "      <td>139</td>\n",
       "      <td>2009091000</td>\n",
       "      <td>PIT</td>\n",
       "      <td>TEN</td>\n",
       "      <td>PIT</td>\n",
       "      <td>home</td>\n",
       "      <td>TEN</td>\n",
       "      <td>PIT</td>\n",
       "      <td>56.0</td>\n",
       "      <td>2009-09-10</td>\n",
       "      <td>...</td>\n",
       "      <td>NaN</td>\n",
       "      <td>NaN</td>\n",
       "      <td>NaN</td>\n",
       "      <td>0</td>\n",
       "      <td>NaN</td>\n",
       "      <td>NaN</td>\n",
       "      <td>0.0</td>\n",
       "      <td>0.0</td>\n",
       "      <td>0.0</td>\n",
       "      <td>0.0</td>\n",
       "    </tr>\n",
       "  </tbody>\n",
       "</table>\n",
       "<p>5 rows × 255 columns</p>\n",
       "</div>"
      ],
      "text/plain": [
       "   play_id     game_id home_team away_team posteam posteam_type defteam  \\\n",
       "0       46  2009091000       PIT       TEN     PIT         home     TEN   \n",
       "1       68  2009091000       PIT       TEN     PIT         home     TEN   \n",
       "2       92  2009091000       PIT       TEN     PIT         home     TEN   \n",
       "3      113  2009091000       PIT       TEN     PIT         home     TEN   \n",
       "4      139  2009091000       PIT       TEN     PIT         home     TEN   \n",
       "\n",
       "  side_of_field  yardline_100   game_date  ...  penalty_player_id  \\\n",
       "0           TEN          30.0  2009-09-10  ...                NaN   \n",
       "1           PIT          58.0  2009-09-10  ...                NaN   \n",
       "2           PIT          53.0  2009-09-10  ...                NaN   \n",
       "3           PIT          56.0  2009-09-10  ...                NaN   \n",
       "4           PIT          56.0  2009-09-10  ...                NaN   \n",
       "\n",
       "   penalty_player_name  penalty_yards replay_or_challenge  \\\n",
       "0                  NaN            NaN                   0   \n",
       "1                  NaN            NaN                   0   \n",
       "2                  NaN            NaN                   0   \n",
       "3                  NaN            NaN                   0   \n",
       "4                  NaN            NaN                   0   \n",
       "\n",
       "   replay_or_challenge_result  penalty_type  defensive_two_point_attempt  \\\n",
       "0                         NaN           NaN                          0.0   \n",
       "1                         NaN           NaN                          0.0   \n",
       "2                         NaN           NaN                          0.0   \n",
       "3                         NaN           NaN                          0.0   \n",
       "4                         NaN           NaN                          0.0   \n",
       "\n",
       "   defensive_two_point_conv  defensive_extra_point_attempt  \\\n",
       "0                       0.0                            0.0   \n",
       "1                       0.0                            0.0   \n",
       "2                       0.0                            0.0   \n",
       "3                       0.0                            0.0   \n",
       "4                       0.0                            0.0   \n",
       "\n",
       "   defensive_extra_point_conv  \n",
       "0                         0.0  \n",
       "1                         0.0  \n",
       "2                         0.0  \n",
       "3                         0.0  \n",
       "4                         0.0  \n",
       "\n",
       "[5 rows x 255 columns]"
      ]
     },
     "execution_count": 1,
     "metadata": {},
     "output_type": "execute_result"
    }
   ],
   "source": [
    "import pandas as pd\n",
    "import matplotlib.pyplot as plt\n",
    "import numpy as np\n",
    "import pickle\n",
    "import warnings \n",
    "warnings.filterwarnings(\"ignore\")\n",
    "\n",
    "from sklearn.preprocessing import RobustScaler, MinMaxScaler, StandardScaler\n",
    "\n",
    "#divisao treino e teste\n",
    "from sklearn.model_selection import train_test_split\n",
    "\n",
    "#modelos\n",
    "from sklearn.svm import SVC\n",
    "from sklearn.linear_model import LogisticRegression\n",
    "from sklearn.ensemble import RandomForestClassifier\n",
    "from sklearn.tree import DecisionTreeClassifier\n",
    "from sklearn.ensemble import GradientBoostingClassifier\n",
    "from sklearn.neural_network import MLPClassifier\n",
    "from sklearn.neural_network import MLPRegressor\n",
    "from sklearn import linear_model\n",
    "from sklearn.neighbors import KNeighborsClassifier\n",
    "from sklearn.naive_bayes import GaussianNB\n",
    "\n",
    "#metricas\n",
    "from sklearn.metrics import accuracy_score, classification_report, roc_curve, confusion_matrix, plot_confusion_matrix \n",
    "\n",
    "#validacao\n",
    "from sklearn.model_selection import cross_val_score\n",
    "from sklearn.model_selection import GridSearchCV\n",
    "\n",
    "df = pd.read_csv(\"NFL Play by Play 2009-2018 (v5).csv\")\n",
    "\n",
    "df.head()"
   ]
  },
  {
   "cell_type": "markdown",
   "metadata": {},
   "source": [
    "Criando novas colunas que serao utilizadas no machine learning (Rushing Mean e Passing Mean)"
   ]
  },
  {
   "cell_type": "code",
   "execution_count": 2,
   "metadata": {},
   "outputs": [
    {
     "data": {
      "text/html": [
       "<div>\n",
       "<style scoped>\n",
       "    .dataframe tbody tr th:only-of-type {\n",
       "        vertical-align: middle;\n",
       "    }\n",
       "\n",
       "    .dataframe tbody tr th {\n",
       "        vertical-align: top;\n",
       "    }\n",
       "\n",
       "    .dataframe thead th {\n",
       "        text-align: right;\n",
       "    }\n",
       "</style>\n",
       "<table border=\"1\" class=\"dataframe\">\n",
       "  <thead>\n",
       "    <tr style=\"text-align: right;\">\n",
       "      <th></th>\n",
       "      <th>game_id</th>\n",
       "      <th>qtr</th>\n",
       "      <th>posteam</th>\n",
       "      <th>RushingMean</th>\n",
       "      <th>PassingMean</th>\n",
       "    </tr>\n",
       "  </thead>\n",
       "  <tbody>\n",
       "    <tr>\n",
       "      <th>0</th>\n",
       "      <td>2009091000</td>\n",
       "      <td>1</td>\n",
       "      <td>PIT</td>\n",
       "      <td>0.333333</td>\n",
       "      <td>-0.125000</td>\n",
       "    </tr>\n",
       "    <tr>\n",
       "      <th>1</th>\n",
       "      <td>2009091000</td>\n",
       "      <td>1</td>\n",
       "      <td>TEN</td>\n",
       "      <td>6.166667</td>\n",
       "      <td>6.222222</td>\n",
       "    </tr>\n",
       "    <tr>\n",
       "      <th>2</th>\n",
       "      <td>2009091000</td>\n",
       "      <td>2</td>\n",
       "      <td>PIT</td>\n",
       "      <td>2.500000</td>\n",
       "      <td>9.062500</td>\n",
       "    </tr>\n",
       "    <tr>\n",
       "      <th>3</th>\n",
       "      <td>2009091000</td>\n",
       "      <td>2</td>\n",
       "      <td>TEN</td>\n",
       "      <td>1.400000</td>\n",
       "      <td>8.307692</td>\n",
       "    </tr>\n",
       "    <tr>\n",
       "      <th>4</th>\n",
       "      <td>2009091000</td>\n",
       "      <td>3</td>\n",
       "      <td>PIT</td>\n",
       "      <td>2.000000</td>\n",
       "      <td>3.000000</td>\n",
       "    </tr>\n",
       "  </tbody>\n",
       "</table>\n",
       "</div>"
      ],
      "text/plain": [
       "      game_id  qtr posteam  RushingMean  PassingMean\n",
       "0  2009091000    1     PIT     0.333333    -0.125000\n",
       "1  2009091000    1     TEN     6.166667     6.222222\n",
       "2  2009091000    2     PIT     2.500000     9.062500\n",
       "3  2009091000    2     TEN     1.400000     8.307692\n",
       "4  2009091000    3     PIT     2.000000     3.000000"
      ]
     },
     "execution_count": 2,
     "metadata": {},
     "output_type": "execute_result"
    }
   ],
   "source": [
    "r_off_agg = df[(df.play_type == 'run')]\n",
    "p_off_agg = df[(df.play_type == 'pass')|(df.play_type == 'sack')]\n",
    "\n",
    "r_off_agg = r_off_agg.groupby(['game_id','qtr','posteam'])['yards_gained'].mean().reset_index()\n",
    "p_off_agg = p_off_agg.groupby(['game_id','qtr','posteam'])['yards_gained'].mean().reset_index()\n",
    "\n",
    "r_off_agg = r_off_agg.rename(columns={'yards_gained':'RushingMean'})\n",
    "p_off_agg = p_off_agg.rename(columns={'yards_gained':'PassingMean'})\n",
    "\n",
    "off_agg = pd.merge(r_off_agg, p_off_agg, left_on=['game_id','qtr','posteam'], right_on=['game_id','qtr','posteam'], how='outer')\n",
    "\n",
    "off_agg.head()\n",
    "\n"
   ]
  },
  {
   "cell_type": "code",
   "execution_count": 3,
   "metadata": {},
   "outputs": [],
   "source": [
    "df = df.merge(off_agg)"
   ]
  },
  {
   "cell_type": "code",
   "execution_count": 4,
   "metadata": {},
   "outputs": [
    {
     "name": "stdout",
     "output_type": "stream",
     "text": [
      "<class 'pandas.core.frame.DataFrame'>\n",
      "Int64Index: 436122 entries, 0 to 436121\n",
      "Columns: 257 entries, play_id to PassingMean\n",
      "dtypes: float64(137), int64(18), object(102)\n",
      "memory usage: 858.5+ MB\n"
     ]
    }
   ],
   "source": [
    "df.info()"
   ]
  },
  {
   "cell_type": "markdown",
   "metadata": {},
   "source": [
    "Escolhendo as colunas que serao utilizadas no machine learning"
   ]
  },
  {
   "cell_type": "code",
   "execution_count": 5,
   "metadata": {},
   "outputs": [
    {
     "data": {
      "text/html": [
       "<div>\n",
       "<style scoped>\n",
       "    .dataframe tbody tr th:only-of-type {\n",
       "        vertical-align: middle;\n",
       "    }\n",
       "\n",
       "    .dataframe tbody tr th {\n",
       "        vertical-align: top;\n",
       "    }\n",
       "\n",
       "    .dataframe thead th {\n",
       "        text-align: right;\n",
       "    }\n",
       "</style>\n",
       "<table border=\"1\" class=\"dataframe\">\n",
       "  <thead>\n",
       "    <tr style=\"text-align: right;\">\n",
       "      <th></th>\n",
       "      <th>qtr</th>\n",
       "      <th>yardline_100</th>\n",
       "      <th>ydstogo</th>\n",
       "      <th>half_seconds_remaining</th>\n",
       "      <th>down</th>\n",
       "      <th>score_differential</th>\n",
       "      <th>posteam</th>\n",
       "      <th>posteam_type</th>\n",
       "      <th>play_type</th>\n",
       "      <th>game_seconds_remaining</th>\n",
       "      <th>posteam_timeouts_remaining</th>\n",
       "      <th>PassingMean</th>\n",
       "      <th>RushingMean</th>\n",
       "    </tr>\n",
       "  </thead>\n",
       "  <tbody>\n",
       "    <tr>\n",
       "      <th>0</th>\n",
       "      <td>1</td>\n",
       "      <td>30.0</td>\n",
       "      <td>0</td>\n",
       "      <td>1800.0</td>\n",
       "      <td>NaN</td>\n",
       "      <td>NaN</td>\n",
       "      <td>PIT</td>\n",
       "      <td>home</td>\n",
       "      <td>kickoff</td>\n",
       "      <td>3600.0</td>\n",
       "      <td>3.0</td>\n",
       "      <td>-0.125</td>\n",
       "      <td>0.333333</td>\n",
       "    </tr>\n",
       "    <tr>\n",
       "      <th>1</th>\n",
       "      <td>1</td>\n",
       "      <td>58.0</td>\n",
       "      <td>10</td>\n",
       "      <td>1793.0</td>\n",
       "      <td>1.0</td>\n",
       "      <td>0.0</td>\n",
       "      <td>PIT</td>\n",
       "      <td>home</td>\n",
       "      <td>pass</td>\n",
       "      <td>3593.0</td>\n",
       "      <td>3.0</td>\n",
       "      <td>-0.125</td>\n",
       "      <td>0.333333</td>\n",
       "    </tr>\n",
       "    <tr>\n",
       "      <th>2</th>\n",
       "      <td>1</td>\n",
       "      <td>53.0</td>\n",
       "      <td>5</td>\n",
       "      <td>1756.0</td>\n",
       "      <td>2.0</td>\n",
       "      <td>0.0</td>\n",
       "      <td>PIT</td>\n",
       "      <td>home</td>\n",
       "      <td>run</td>\n",
       "      <td>3556.0</td>\n",
       "      <td>3.0</td>\n",
       "      <td>-0.125</td>\n",
       "      <td>0.333333</td>\n",
       "    </tr>\n",
       "    <tr>\n",
       "      <th>3</th>\n",
       "      <td>1</td>\n",
       "      <td>56.0</td>\n",
       "      <td>8</td>\n",
       "      <td>1715.0</td>\n",
       "      <td>3.0</td>\n",
       "      <td>0.0</td>\n",
       "      <td>PIT</td>\n",
       "      <td>home</td>\n",
       "      <td>pass</td>\n",
       "      <td>3515.0</td>\n",
       "      <td>3.0</td>\n",
       "      <td>-0.125</td>\n",
       "      <td>0.333333</td>\n",
       "    </tr>\n",
       "    <tr>\n",
       "      <th>4</th>\n",
       "      <td>1</td>\n",
       "      <td>56.0</td>\n",
       "      <td>8</td>\n",
       "      <td>1707.0</td>\n",
       "      <td>4.0</td>\n",
       "      <td>0.0</td>\n",
       "      <td>PIT</td>\n",
       "      <td>home</td>\n",
       "      <td>punt</td>\n",
       "      <td>3507.0</td>\n",
       "      <td>3.0</td>\n",
       "      <td>-0.125</td>\n",
       "      <td>0.333333</td>\n",
       "    </tr>\n",
       "  </tbody>\n",
       "</table>\n",
       "</div>"
      ],
      "text/plain": [
       "   qtr  yardline_100  ydstogo  half_seconds_remaining  down  \\\n",
       "0    1          30.0        0                  1800.0   NaN   \n",
       "1    1          58.0       10                  1793.0   1.0   \n",
       "2    1          53.0        5                  1756.0   2.0   \n",
       "3    1          56.0        8                  1715.0   3.0   \n",
       "4    1          56.0        8                  1707.0   4.0   \n",
       "\n",
       "   score_differential posteam posteam_type play_type  game_seconds_remaining  \\\n",
       "0                 NaN     PIT         home   kickoff                  3600.0   \n",
       "1                 0.0     PIT         home      pass                  3593.0   \n",
       "2                 0.0     PIT         home       run                  3556.0   \n",
       "3                 0.0     PIT         home      pass                  3515.0   \n",
       "4                 0.0     PIT         home      punt                  3507.0   \n",
       "\n",
       "   posteam_timeouts_remaining  PassingMean  RushingMean  \n",
       "0                         3.0       -0.125     0.333333  \n",
       "1                         3.0       -0.125     0.333333  \n",
       "2                         3.0       -0.125     0.333333  \n",
       "3                         3.0       -0.125     0.333333  \n",
       "4                         3.0       -0.125     0.333333  "
      ]
     },
     "execution_count": 5,
     "metadata": {},
     "output_type": "execute_result"
    }
   ],
   "source": [
    "df = df[[\"qtr\", \"yardline_100\", \"ydstogo\", \"half_seconds_remaining\",\"down\",\"score_differential\",\"posteam\",\"posteam_type\",\"play_type\",\"game_seconds_remaining\",\"posteam_timeouts_remaining\",\"PassingMean\",\"RushingMean\"]]\n",
    "df.head()"
   ]
  },
  {
   "cell_type": "markdown",
   "metadata": {},
   "source": [
    "Apagando as linhas que contem informacoes em branco"
   ]
  },
  {
   "cell_type": "code",
   "execution_count": 6,
   "metadata": {},
   "outputs": [
    {
     "data": {
      "text/plain": [
       "qtr                           0\n",
       "yardline_100                  0\n",
       "ydstogo                       0\n",
       "half_seconds_remaining        0\n",
       "down                          0\n",
       "score_differential            0\n",
       "posteam                       0\n",
       "posteam_type                  0\n",
       "play_type                     0\n",
       "game_seconds_remaining        0\n",
       "posteam_timeouts_remaining    0\n",
       "PassingMean                   0\n",
       "RushingMean                   0\n",
       "dtype: int64"
      ]
     },
     "execution_count": 6,
     "metadata": {},
     "output_type": "execute_result"
    }
   ],
   "source": [
    "df = df.dropna()\n",
    "df.isnull().sum()"
   ]
  },
  {
   "cell_type": "code",
   "execution_count": 7,
   "metadata": {},
   "outputs": [
    {
     "data": {
      "text/plain": [
       "qtr                              5\n",
       "yardline_100                    99\n",
       "ydstogo                         47\n",
       "half_seconds_remaining        1801\n",
       "down                             4\n",
       "score_differential             109\n",
       "posteam                         35\n",
       "posteam_type                     2\n",
       "play_type                        7\n",
       "game_seconds_remaining        3601\n",
       "posteam_timeouts_remaining       4\n",
       "PassingMean                   1780\n",
       "RushingMean                    877\n",
       "dtype: int64"
      ]
     },
     "execution_count": 7,
     "metadata": {},
     "output_type": "execute_result"
    }
   ],
   "source": [
    "df.nunique()"
   ]
  },
  {
   "cell_type": "markdown",
   "metadata": {},
   "source": [
    "Apagando as linhas da coluna playtype que nao forem pass ou run"
   ]
  },
  {
   "cell_type": "code",
   "execution_count": 8,
   "metadata": {},
   "outputs": [],
   "source": [
    "def shorten_categories(categories, cutoff):\n",
    "    categorical_map = {}\n",
    "    for i in range(len(categories)):\n",
    "        if categories.values[i] >= cutoff:\n",
    "            categorical_map[categories.index[i]] = categories.index[i]\n",
    "        else:\n",
    "            categorical_map[categories.index[i]] = 'NaN'\n",
    "    return categorical_map"
   ]
  },
  {
   "cell_type": "code",
   "execution_count": 9,
   "metadata": {},
   "outputs": [
    {
     "data": {
      "text/plain": [
       "pass    183949\n",
       "run     131843\n",
       "NaN      61650\n",
       "Name: play_type, dtype: int64"
      ]
     },
     "execution_count": 9,
     "metadata": {},
     "output_type": "execute_result"
    }
   ],
   "source": [
    "country_map = shorten_categories(df.play_type.value_counts(), 100000)\n",
    "df['play_type'] = df['play_type'].map(country_map)\n",
    "df.play_type.value_counts()"
   ]
  },
  {
   "cell_type": "code",
   "execution_count": 10,
   "metadata": {},
   "outputs": [],
   "source": [
    "df =  df[df.play_type != 'NaN']"
   ]
  },
  {
   "cell_type": "code",
   "execution_count": 11,
   "metadata": {},
   "outputs": [
    {
     "data": {
      "text/plain": [
       "qtr                              5\n",
       "yardline_100                    99\n",
       "ydstogo                         46\n",
       "half_seconds_remaining        1801\n",
       "down                             4\n",
       "score_differential             108\n",
       "posteam                         35\n",
       "posteam_type                     2\n",
       "play_type                        2\n",
       "game_seconds_remaining        3601\n",
       "posteam_timeouts_remaining       4\n",
       "PassingMean                   1780\n",
       "RushingMean                    877\n",
       "dtype: int64"
      ]
     },
     "execution_count": 11,
     "metadata": {},
     "output_type": "execute_result"
    }
   ],
   "source": [
    "df.nunique()"
   ]
  },
  {
   "cell_type": "code",
   "execution_count": 12,
   "metadata": {},
   "outputs": [
    {
     "name": "stdout",
     "output_type": "stream",
     "text": [
      "<class 'pandas.core.frame.DataFrame'>\n",
      "Int64Index: 315792 entries, 1 to 436121\n",
      "Data columns (total 13 columns):\n",
      " #   Column                      Non-Null Count   Dtype  \n",
      "---  ------                      --------------   -----  \n",
      " 0   qtr                         315792 non-null  int64  \n",
      " 1   yardline_100                315792 non-null  float64\n",
      " 2   ydstogo                     315792 non-null  int64  \n",
      " 3   half_seconds_remaining      315792 non-null  float64\n",
      " 4   down                        315792 non-null  float64\n",
      " 5   score_differential          315792 non-null  float64\n",
      " 6   posteam                     315792 non-null  object \n",
      " 7   posteam_type                315792 non-null  object \n",
      " 8   play_type                   315792 non-null  object \n",
      " 9   game_seconds_remaining      315792 non-null  float64\n",
      " 10  posteam_timeouts_remaining  315792 non-null  float64\n",
      " 11  PassingMean                 315792 non-null  float64\n",
      " 12  RushingMean                 315792 non-null  float64\n",
      "dtypes: float64(8), int64(2), object(3)\n",
      "memory usage: 33.7+ MB\n"
     ]
    }
   ],
   "source": [
    "df.info()\n"
   ]
  },
  {
   "cell_type": "code",
   "execution_count": 13,
   "metadata": {},
   "outputs": [
    {
     "data": {
      "text/plain": [
       "qtr                           0\n",
       "yardline_100                  0\n",
       "ydstogo                       0\n",
       "half_seconds_remaining        0\n",
       "down                          0\n",
       "score_differential            0\n",
       "posteam                       0\n",
       "posteam_type                  0\n",
       "play_type                     0\n",
       "game_seconds_remaining        0\n",
       "posteam_timeouts_remaining    0\n",
       "PassingMean                   0\n",
       "RushingMean                   0\n",
       "dtype: int64"
      ]
     },
     "execution_count": 13,
     "metadata": {},
     "output_type": "execute_result"
    }
   ],
   "source": [
    "df = df.dropna()\n",
    "df.isnull().sum()"
   ]
  },
  {
   "cell_type": "code",
   "execution_count": 14,
   "metadata": {},
   "outputs": [
    {
     "name": "stdout",
     "output_type": "stream",
     "text": [
      "<class 'pandas.core.frame.DataFrame'>\n",
      "Int64Index: 315792 entries, 1 to 436121\n",
      "Data columns (total 13 columns):\n",
      " #   Column                      Non-Null Count   Dtype  \n",
      "---  ------                      --------------   -----  \n",
      " 0   qtr                         315792 non-null  int64  \n",
      " 1   yardline_100                315792 non-null  float64\n",
      " 2   ydstogo                     315792 non-null  int64  \n",
      " 3   half_seconds_remaining      315792 non-null  float64\n",
      " 4   down                        315792 non-null  float64\n",
      " 5   score_differential          315792 non-null  float64\n",
      " 6   posteam                     315792 non-null  object \n",
      " 7   posteam_type                315792 non-null  object \n",
      " 8   play_type                   315792 non-null  object \n",
      " 9   game_seconds_remaining      315792 non-null  float64\n",
      " 10  posteam_timeouts_remaining  315792 non-null  float64\n",
      " 11  PassingMean                 315792 non-null  float64\n",
      " 12  RushingMean                 315792 non-null  float64\n",
      "dtypes: float64(8), int64(2), object(3)\n",
      "memory usage: 33.7+ MB\n"
     ]
    }
   ],
   "source": [
    "df.info()"
   ]
  },
  {
   "cell_type": "code",
   "execution_count": 15,
   "metadata": {},
   "outputs": [
    {
     "data": {
      "text/html": [
       "<div>\n",
       "<style scoped>\n",
       "    .dataframe tbody tr th:only-of-type {\n",
       "        vertical-align: middle;\n",
       "    }\n",
       "\n",
       "    .dataframe tbody tr th {\n",
       "        vertical-align: top;\n",
       "    }\n",
       "\n",
       "    .dataframe thead th {\n",
       "        text-align: right;\n",
       "    }\n",
       "</style>\n",
       "<table border=\"1\" class=\"dataframe\">\n",
       "  <thead>\n",
       "    <tr style=\"text-align: right;\">\n",
       "      <th></th>\n",
       "      <th>qtr</th>\n",
       "      <th>yardline_100</th>\n",
       "      <th>ydstogo</th>\n",
       "      <th>half_seconds_remaining</th>\n",
       "      <th>down</th>\n",
       "      <th>score_differential</th>\n",
       "      <th>posteam</th>\n",
       "      <th>posteam_type</th>\n",
       "      <th>play_type</th>\n",
       "      <th>game_seconds_remaining</th>\n",
       "      <th>posteam_timeouts_remaining</th>\n",
       "      <th>PassingMean</th>\n",
       "      <th>RushingMean</th>\n",
       "    </tr>\n",
       "  </thead>\n",
       "  <tbody>\n",
       "    <tr>\n",
       "      <th>1</th>\n",
       "      <td>1</td>\n",
       "      <td>58.0</td>\n",
       "      <td>10</td>\n",
       "      <td>1793.0</td>\n",
       "      <td>1.0</td>\n",
       "      <td>0.0</td>\n",
       "      <td>PIT</td>\n",
       "      <td>home</td>\n",
       "      <td>pass</td>\n",
       "      <td>3593.0</td>\n",
       "      <td>3.0</td>\n",
       "      <td>-0.125</td>\n",
       "      <td>0.333333</td>\n",
       "    </tr>\n",
       "    <tr>\n",
       "      <th>2</th>\n",
       "      <td>1</td>\n",
       "      <td>53.0</td>\n",
       "      <td>5</td>\n",
       "      <td>1756.0</td>\n",
       "      <td>2.0</td>\n",
       "      <td>0.0</td>\n",
       "      <td>PIT</td>\n",
       "      <td>home</td>\n",
       "      <td>run</td>\n",
       "      <td>3556.0</td>\n",
       "      <td>3.0</td>\n",
       "      <td>-0.125</td>\n",
       "      <td>0.333333</td>\n",
       "    </tr>\n",
       "    <tr>\n",
       "      <th>3</th>\n",
       "      <td>1</td>\n",
       "      <td>56.0</td>\n",
       "      <td>8</td>\n",
       "      <td>1715.0</td>\n",
       "      <td>3.0</td>\n",
       "      <td>0.0</td>\n",
       "      <td>PIT</td>\n",
       "      <td>home</td>\n",
       "      <td>pass</td>\n",
       "      <td>3515.0</td>\n",
       "      <td>3.0</td>\n",
       "      <td>-0.125</td>\n",
       "      <td>0.333333</td>\n",
       "    </tr>\n",
       "    <tr>\n",
       "      <th>5</th>\n",
       "      <td>1</td>\n",
       "      <td>43.0</td>\n",
       "      <td>10</td>\n",
       "      <td>1584.0</td>\n",
       "      <td>1.0</td>\n",
       "      <td>0.0</td>\n",
       "      <td>PIT</td>\n",
       "      <td>home</td>\n",
       "      <td>pass</td>\n",
       "      <td>3384.0</td>\n",
       "      <td>3.0</td>\n",
       "      <td>-0.125</td>\n",
       "      <td>0.333333</td>\n",
       "    </tr>\n",
       "    <tr>\n",
       "      <th>6</th>\n",
       "      <td>1</td>\n",
       "      <td>40.0</td>\n",
       "      <td>7</td>\n",
       "      <td>1548.0</td>\n",
       "      <td>2.0</td>\n",
       "      <td>0.0</td>\n",
       "      <td>PIT</td>\n",
       "      <td>home</td>\n",
       "      <td>pass</td>\n",
       "      <td>3348.0</td>\n",
       "      <td>3.0</td>\n",
       "      <td>-0.125</td>\n",
       "      <td>0.333333</td>\n",
       "    </tr>\n",
       "  </tbody>\n",
       "</table>\n",
       "</div>"
      ],
      "text/plain": [
       "   qtr  yardline_100  ydstogo  half_seconds_remaining  down  \\\n",
       "1    1          58.0       10                  1793.0   1.0   \n",
       "2    1          53.0        5                  1756.0   2.0   \n",
       "3    1          56.0        8                  1715.0   3.0   \n",
       "5    1          43.0       10                  1584.0   1.0   \n",
       "6    1          40.0        7                  1548.0   2.0   \n",
       "\n",
       "   score_differential posteam posteam_type play_type  game_seconds_remaining  \\\n",
       "1                 0.0     PIT         home      pass                  3593.0   \n",
       "2                 0.0     PIT         home       run                  3556.0   \n",
       "3                 0.0     PIT         home      pass                  3515.0   \n",
       "5                 0.0     PIT         home      pass                  3384.0   \n",
       "6                 0.0     PIT         home      pass                  3348.0   \n",
       "\n",
       "   posteam_timeouts_remaining  PassingMean  RushingMean  \n",
       "1                         3.0       -0.125     0.333333  \n",
       "2                         3.0       -0.125     0.333333  \n",
       "3                         3.0       -0.125     0.333333  \n",
       "5                         3.0       -0.125     0.333333  \n",
       "6                         3.0       -0.125     0.333333  "
      ]
     },
     "execution_count": 15,
     "metadata": {},
     "output_type": "execute_result"
    }
   ],
   "source": [
    "df.head()"
   ]
  },
  {
   "cell_type": "markdown",
   "metadata": {},
   "source": [
    "Apagando 200.000 linhas porque estava tendo problemas ao fazer o machine learning devido ao tamanho."
   ]
  },
  {
   "cell_type": "code",
   "execution_count": 16,
   "metadata": {},
   "outputs": [],
   "source": [
    "n = 250000\n",
    "df.drop(index=df.index[:n],inplace=True)"
   ]
  },
  {
   "cell_type": "markdown",
   "metadata": {},
   "source": [
    "Transformando colunas que possuem informacoes no formato string em int"
   ]
  },
  {
   "cell_type": "code",
   "execution_count": 17,
   "metadata": {},
   "outputs": [
    {
     "name": "stdout",
     "output_type": "stream",
     "text": [
      "<class 'pandas.core.frame.DataFrame'>\n",
      "Int64Index: 65792 entries, 345299 to 436121\n",
      "Data columns (total 13 columns):\n",
      " #   Column                      Non-Null Count  Dtype  \n",
      "---  ------                      --------------  -----  \n",
      " 0   qtr                         65792 non-null  int64  \n",
      " 1   yardline_100                65792 non-null  float64\n",
      " 2   ydstogo                     65792 non-null  int64  \n",
      " 3   half_seconds_remaining      65792 non-null  float64\n",
      " 4   down                        65792 non-null  float64\n",
      " 5   score_differential          65792 non-null  float64\n",
      " 6   posteam                     65792 non-null  object \n",
      " 7   posteam_type                65792 non-null  object \n",
      " 8   play_type                   65792 non-null  object \n",
      " 9   game_seconds_remaining      65792 non-null  float64\n",
      " 10  posteam_timeouts_remaining  65792 non-null  float64\n",
      " 11  PassingMean                 65792 non-null  float64\n",
      " 12  RushingMean                 65792 non-null  float64\n",
      "dtypes: float64(8), int64(2), object(3)\n",
      "memory usage: 7.0+ MB\n"
     ]
    }
   ],
   "source": [
    "df.info()"
   ]
  },
  {
   "cell_type": "code",
   "execution_count": 18,
   "metadata": {},
   "outputs": [
    {
     "data": {
      "text/html": [
       "<div>\n",
       "<style scoped>\n",
       "    .dataframe tbody tr th:only-of-type {\n",
       "        vertical-align: middle;\n",
       "    }\n",
       "\n",
       "    .dataframe tbody tr th {\n",
       "        vertical-align: top;\n",
       "    }\n",
       "\n",
       "    .dataframe thead th {\n",
       "        text-align: right;\n",
       "    }\n",
       "</style>\n",
       "<table border=\"1\" class=\"dataframe\">\n",
       "  <thead>\n",
       "    <tr style=\"text-align: right;\">\n",
       "      <th></th>\n",
       "      <th>qtr</th>\n",
       "      <th>yardline_100</th>\n",
       "      <th>ydstogo</th>\n",
       "      <th>half_seconds_remaining</th>\n",
       "      <th>down</th>\n",
       "      <th>score_differential</th>\n",
       "      <th>posteam</th>\n",
       "      <th>posteam_type</th>\n",
       "      <th>play_type</th>\n",
       "      <th>game_seconds_remaining</th>\n",
       "      <th>posteam_timeouts_remaining</th>\n",
       "      <th>PassingMean</th>\n",
       "      <th>RushingMean</th>\n",
       "    </tr>\n",
       "  </thead>\n",
       "  <tbody>\n",
       "    <tr>\n",
       "      <th>345299</th>\n",
       "      <td>2</td>\n",
       "      <td>49.0</td>\n",
       "      <td>19</td>\n",
       "      <td>745.0</td>\n",
       "      <td>2.0</td>\n",
       "      <td>-3.0</td>\n",
       "      <td>ARI</td>\n",
       "      <td>home</td>\n",
       "      <td>pass</td>\n",
       "      <td>2545.0</td>\n",
       "      <td>3.0</td>\n",
       "      <td>5.625</td>\n",
       "      <td>3.333333</td>\n",
       "    </tr>\n",
       "    <tr>\n",
       "      <th>345300</th>\n",
       "      <td>2</td>\n",
       "      <td>37.0</td>\n",
       "      <td>7</td>\n",
       "      <td>697.0</td>\n",
       "      <td>3.0</td>\n",
       "      <td>-3.0</td>\n",
       "      <td>ARI</td>\n",
       "      <td>home</td>\n",
       "      <td>pass</td>\n",
       "      <td>2497.0</td>\n",
       "      <td>3.0</td>\n",
       "      <td>5.625</td>\n",
       "      <td>3.333333</td>\n",
       "    </tr>\n",
       "    <tr>\n",
       "      <th>345303</th>\n",
       "      <td>2</td>\n",
       "      <td>92.0</td>\n",
       "      <td>10</td>\n",
       "      <td>363.0</td>\n",
       "      <td>1.0</td>\n",
       "      <td>-4.0</td>\n",
       "      <td>ARI</td>\n",
       "      <td>home</td>\n",
       "      <td>pass</td>\n",
       "      <td>2163.0</td>\n",
       "      <td>3.0</td>\n",
       "      <td>5.625</td>\n",
       "      <td>3.333333</td>\n",
       "    </tr>\n",
       "    <tr>\n",
       "      <th>345304</th>\n",
       "      <td>2</td>\n",
       "      <td>83.0</td>\n",
       "      <td>1</td>\n",
       "      <td>332.0</td>\n",
       "      <td>2.0</td>\n",
       "      <td>-4.0</td>\n",
       "      <td>ARI</td>\n",
       "      <td>home</td>\n",
       "      <td>pass</td>\n",
       "      <td>2132.0</td>\n",
       "      <td>3.0</td>\n",
       "      <td>5.625</td>\n",
       "      <td>3.333333</td>\n",
       "    </tr>\n",
       "    <tr>\n",
       "      <th>345305</th>\n",
       "      <td>2</td>\n",
       "      <td>80.0</td>\n",
       "      <td>10</td>\n",
       "      <td>296.0</td>\n",
       "      <td>1.0</td>\n",
       "      <td>-4.0</td>\n",
       "      <td>ARI</td>\n",
       "      <td>home</td>\n",
       "      <td>run</td>\n",
       "      <td>2096.0</td>\n",
       "      <td>3.0</td>\n",
       "      <td>5.625</td>\n",
       "      <td>3.333333</td>\n",
       "    </tr>\n",
       "  </tbody>\n",
       "</table>\n",
       "</div>"
      ],
      "text/plain": [
       "        qtr  yardline_100  ydstogo  half_seconds_remaining  down  \\\n",
       "345299    2          49.0       19                   745.0   2.0   \n",
       "345300    2          37.0        7                   697.0   3.0   \n",
       "345303    2          92.0       10                   363.0   1.0   \n",
       "345304    2          83.0        1                   332.0   2.0   \n",
       "345305    2          80.0       10                   296.0   1.0   \n",
       "\n",
       "        score_differential posteam posteam_type play_type  \\\n",
       "345299                -3.0     ARI         home      pass   \n",
       "345300                -3.0     ARI         home      pass   \n",
       "345303                -4.0     ARI         home      pass   \n",
       "345304                -4.0     ARI         home      pass   \n",
       "345305                -4.0     ARI         home       run   \n",
       "\n",
       "        game_seconds_remaining  posteam_timeouts_remaining  PassingMean  \\\n",
       "345299                  2545.0                         3.0        5.625   \n",
       "345300                  2497.0                         3.0        5.625   \n",
       "345303                  2163.0                         3.0        5.625   \n",
       "345304                  2132.0                         3.0        5.625   \n",
       "345305                  2096.0                         3.0        5.625   \n",
       "\n",
       "        RushingMean  \n",
       "345299     3.333333  \n",
       "345300     3.333333  \n",
       "345303     3.333333  \n",
       "345304     3.333333  \n",
       "345305     3.333333  "
      ]
     },
     "execution_count": 18,
     "metadata": {},
     "output_type": "execute_result"
    }
   ],
   "source": [
    "df.head()"
   ]
  },
  {
   "cell_type": "code",
   "execution_count": 19,
   "metadata": {},
   "outputs": [
    {
     "data": {
      "text/plain": [
       "array([ 0, 21, 29,  1, 27, 24, 20,  9,  8, 30,  4, 32, 22, 25,  3, 18, 23,\n",
       "       14, 31, 11, 19,  7,  5, 13, 28, 16,  6, 12,  2, 26, 15, 10, 17])"
      ]
     },
     "execution_count": 19,
     "metadata": {},
     "output_type": "execute_result"
    }
   ],
   "source": [
    "from sklearn.preprocessing import LabelEncoder\n",
    "le_posteam = LabelEncoder()\n",
    "df['posteam'] = le_posteam.fit_transform(df['posteam'])\n",
    "df[\"posteam\"].unique()"
   ]
  },
  {
   "cell_type": "code",
   "execution_count": 20,
   "metadata": {},
   "outputs": [
    {
     "data": {
      "text/plain": [
       "array([1, 0])"
      ]
     },
     "execution_count": 20,
     "metadata": {},
     "output_type": "execute_result"
    }
   ],
   "source": [
    "le_posteam_type = LabelEncoder()\n",
    "df['posteam_type'] = le_posteam_type.fit_transform(df['posteam_type'])\n",
    "df[\"posteam_type\"].unique()"
   ]
  },
  {
   "cell_type": "code",
   "execution_count": 21,
   "metadata": {},
   "outputs": [],
   "source": [
    "#le_play_type = LabelEncoder()\n",
    "#df['play_type'] = le_play_type.fit_transform(df['play_type'])\n",
    "#df[\"play_type\"].unique()"
   ]
  },
  {
   "cell_type": "markdown",
   "metadata": {},
   "source": [
    "Testando qual tipo de machine learning seria o melhor para esse caso"
   ]
  },
  {
   "cell_type": "code",
   "execution_count": 22,
   "metadata": {},
   "outputs": [
    {
     "name": "stdout",
     "output_type": "stream",
     "text": [
      "Shape X_train (52633, 12)\n",
      "Shape X_test (13159, 12)\n",
      "Shape y_train (52633,)\n",
      "Shape y_test (13159,)\n"
     ]
    }
   ],
   "source": [
    "y = df['play_type']\n",
    "X = df.drop('play_type', axis=1)\n",
    "\n",
    "X_train, X_test, y_train, y_test = train_test_split(X,y, test_size = 0.2, random_state = 0)\n",
    "print(\"Shape X_train\", X_train.shape)\n",
    "print(\"Shape X_test\",X_test.shape)\n",
    "print(\"Shape y_train\",y_train.shape)\n",
    "print(\"Shape y_test\",y_test.shape)\n"
   ]
  },
  {
   "cell_type": "code",
   "execution_count": 23,
   "metadata": {},
   "outputs": [
    {
     "name": "stdout",
     "output_type": "stream",
     "text": [
      "A precisao do teste usando MLPClassifier foi de 61.21% \n"
     ]
    }
   ],
   "source": [
    "mlpc = MLPClassifier()\n",
    "mlpc.fit(X_train, y_train)\n",
    "\n",
    "mlpc_predictions = mlpc.predict(X_test)\n",
    "\n",
    "print(f\"A precisao do teste usando MLPClassifier foi de {accuracy_score(y_test, mlpc_predictions)*100:.2f}% \")"
   ]
  },
  {
   "cell_type": "code",
   "execution_count": 24,
   "metadata": {},
   "outputs": [
    {
     "name": "stdout",
     "output_type": "stream",
     "text": [
      "A precisao do teste usando MLPRegressor foi de 62.00% \n"
     ]
    }
   ],
   "source": [
    "mlpr = MLPClassifier()\n",
    "mlpr.fit(X_train, y_train)\n",
    "\n",
    "mlpr_predictions = mlpr.predict(X_test)\n",
    "\n",
    "print(f\"A precisao do teste usando MLPRegressor foi de {accuracy_score(y_test, mlpr_predictions)*100:.2f}% \")"
   ]
  },
  {
   "cell_type": "code",
   "execution_count": 25,
   "metadata": {},
   "outputs": [
    {
     "name": "stdout",
     "output_type": "stream",
     "text": [
      "A precisao do teste usando GradientBoostingClassifier foi de 69.09% \n"
     ]
    }
   ],
   "source": [
    "gbc = GradientBoostingClassifier()\n",
    "gbc.fit(X_train, y_train)\n",
    "\n",
    "gbc_predictions = gbc.predict(X_test)\n",
    "\n",
    "print(f\"A precisao do teste usando GradientBoostingClassifier foi de {accuracy_score(y_test, gbc_predictions)*100:.2f}% \")"
   ]
  },
  {
   "cell_type": "code",
   "execution_count": 26,
   "metadata": {},
   "outputs": [
    {
     "name": "stdout",
     "output_type": "stream",
     "text": [
      "A precisao do teste usando GaussianNB foi de 63.55% \n"
     ]
    }
   ],
   "source": [
    "gnb = GaussianNB()\n",
    "gnb.fit(X_train, y_train)\n",
    "\n",
    "gnb_predictions = gnb.predict(X_test)\n",
    "print(f\"A precisao do teste usando GaussianNB foi de {accuracy_score(y_test, gnb_predictions)*100:.2f}% \")"
   ]
  },
  {
   "cell_type": "code",
   "execution_count": 27,
   "metadata": {},
   "outputs": [
    {
     "name": "stdout",
     "output_type": "stream",
     "text": [
      "A precisao do teste usando DecisionTreeClassifier foi de 63.72% \n"
     ]
    }
   ],
   "source": [
    "desc_tree = DecisionTreeClassifier()\n",
    "desc_tree.fit(X_train, y_train)\n",
    "\n",
    "dt_predictions = desc_tree.predict(X_test)\n",
    "print(f\"A precisao do teste usando DecisionTreeClassifier foi de {accuracy_score(y_test, dt_predictions)*100:.2f}% \")"
   ]
  },
  {
   "cell_type": "code",
   "execution_count": 28,
   "metadata": {},
   "outputs": [
    {
     "name": "stdout",
     "output_type": "stream",
     "text": [
      "A precisao do teste usando RandomForestClassifier foi de 69.21% \n"
     ]
    }
   ],
   "source": [
    "random_forest = RandomForestClassifier(n_estimators=100)\n",
    "random_forest.fit(X_train, y_train)\n",
    "\n",
    "rf_predictions = random_forest.predict(X_test)\n",
    "print(f\"A precisao do teste usando RandomForestClassifier foi de {accuracy_score(y_test, rf_predictions)*100:.2f}% \")"
   ]
  },
  {
   "cell_type": "code",
   "execution_count": 29,
   "metadata": {},
   "outputs": [
    {
     "name": "stdout",
     "output_type": "stream",
     "text": [
      "A precisao do teste usando LogisticRegression foi de 62.09% \n"
     ]
    }
   ],
   "source": [
    "log_reg = LogisticRegression()\n",
    "log_reg.fit(X_train, y_train)\n",
    "\n",
    "lr_predictions = log_reg.predict(X_test)\n",
    "print(f\"A precisao do teste usando LogisticRegression foi de {accuracy_score(y_test, lr_predictions)*100:.2f}% \")"
   ]
  },
  {
   "cell_type": "code",
   "execution_count": 30,
   "metadata": {},
   "outputs": [
    {
     "name": "stdout",
     "output_type": "stream",
     "text": [
      "A precisao do teste usando DecisionTreeClassifier foi de 63.72% \n"
     ]
    }
   ],
   "source": [
    "desc_tree = DecisionTreeClassifier()\n",
    "desc_tree.fit(X_train, y_train)\n",
    "\n",
    "dt_predictions = desc_tree.predict(X_test)\n",
    "print(f\"A precisao do teste usando DecisionTreeClassifier foi de {accuracy_score(y_test, dt_predictions)*100:.2f}% \")\n"
   ]
  },
  {
   "cell_type": "markdown",
   "metadata": {},
   "source": [
    "Teste para ver como seria o input de um usuario"
   ]
  },
  {
   "cell_type": "code",
   "execution_count": 31,
   "metadata": {},
   "outputs": [
    {
     "data": {
      "text/plain": [
       "array([['4', '78', '8', '100', '2', '-7', 'DAL', 'home', '100', '1',\n",
       "        '5.3', '7.1']], dtype='<U32')"
      ]
     },
     "execution_count": 31,
     "metadata": {},
     "output_type": "execute_result"
    }
   ],
   "source": [
    "X = np.array([[4, 78, 8, 100, 2, -7, 'DAL', 'home', 100, 1, 5.3, 7.1]])\n",
    "X"
   ]
  },
  {
   "cell_type": "code",
   "execution_count": 32,
   "metadata": {},
   "outputs": [
    {
     "data": {
      "text/plain": [
       "array([[  4. ,  78. ,   8. , 100. ,   2. ,  -7. ,   8. ,   1. , 100. ,\n",
       "          1. ,   5.3,   7.1]])"
      ]
     },
     "execution_count": 32,
     "metadata": {},
     "output_type": "execute_result"
    }
   ],
   "source": [
    "X[:, 6] = le_posteam.transform(X[:,6])\n",
    "X[:, 7] = le_posteam_type.transform(X[:,7])\n",
    "X = X.astype(float)\n",
    "X"
   ]
  },
  {
   "cell_type": "code",
   "execution_count": 33,
   "metadata": {},
   "outputs": [
    {
     "data": {
      "text/plain": [
       "array(['pass'], dtype=object)"
      ]
     },
     "execution_count": 33,
     "metadata": {},
     "output_type": "execute_result"
    }
   ],
   "source": [
    "y_test = gbc.predict(X)\n",
    "y_test"
   ]
  },
  {
   "cell_type": "markdown",
   "metadata": {},
   "source": [
    "Plotando um grafico que mostra quais colunas sao mais importantes na hora de decidir uma jogada"
   ]
  },
  {
   "cell_type": "code",
   "execution_count": 34,
   "metadata": {},
   "outputs": [
    {
     "data": {
      "text/plain": [
       "<AxesSubplot: xlabel='feature'>"
      ]
     },
     "execution_count": 34,
     "metadata": {},
     "output_type": "execute_result"
    },
    {
     "data": {
      "image/png": "[encoded data removed]",
      "text/plain": [
       "<Figure size 3000x900 with 1 Axes>"
      ]
     },
     "metadata": {},
     "output_type": "display_data"
    }
   ],
   "source": [
    "importances = pd.DataFrame({'feature':X_train.columns,'importance':np.round(gbc.feature_importances_,3)})\n",
    "importances = importances.sort_values('importance',ascending=False).set_index('feature')\n",
    "importances.plot.bar(figsize=(30,9),rot=0)"
   ]
  },
  {
   "cell_type": "markdown",
   "metadata": {},
   "source": [
    "Salvando as funcoes criadas com o pickle para integrar com o site"
   ]
  },
  {
   "cell_type": "code",
   "execution_count": 35,
   "metadata": {},
   "outputs": [],
   "source": [
    "data = {\"model\": gbc, \"le_posteam\": le_posteam, \"le_posteam_type\": le_posteam_type}\n",
    "with open('saved_steps.pkl', 'wb') as file:\n",
    "    pickle.dump(data, file)"
   ]
  },
  {
   "cell_type": "code",
   "execution_count": 36,
   "metadata": {},
   "outputs": [],
   "source": [
    "with open('saved_steps.pkl', 'rb') as file:\n",
    "    data = pickle.load(file)\n",
    "\n",
    "gbc = data[\"model\"]\n",
    "le_posteam = data[\"le_posteam\"]\n",
    "le_posteam_type = data[\"le_posteam_type\"]"
   ]
  },
  {
   "cell_type": "code",
   "execution_count": 37,
   "metadata": {},
   "outputs": [
    {
     "data": {
      "text/plain": [
       "array(['pass'], dtype=object)"
      ]
     },
     "execution_count": 37,
     "metadata": {},
     "output_type": "execute_result"
    }
   ],
   "source": [
    "y_test = gbc.predict(X)\n",
    "y_test"
   ]
  }
 ],
 "metadata": {
  "kernelspec": {
   "display_name": "Python 3.10.8 64-bit (microsoft store)",
   "language": "python",
   "name": "python3"
  },
  "language_info": {
   "codemirror_mode": {
    "name": "ipython",
    "version": 3
   },
   "file_extension": ".py",
   "mimetype": "text/x-python",
   "name": "python",
   "nbconvert_exporter": "python",
   "pygments_lexer": "ipython3",
   "version": "3.10.8"
  },
  "orig_nbformat": 4,
  "vscode": {
   "interpreter": {
    "hash": "e9e375da22a79186ffe49072ae6df2c8be50fc2c627f3d12cad18e70942528a3"
   }
  }
 },
 "nbformat": 4,
 "nbformat_minor": 2
}

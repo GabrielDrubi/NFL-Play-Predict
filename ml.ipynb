{
 "cells": [
  {
   "cell_type": "code",
   "execution_count": 89,
   "metadata": {},
   "outputs": [
    {
     "data": {
      "text/html": [
       "<div>\n",
       "<style scoped>\n",
       "    .dataframe tbody tr th:only-of-type {\n",
       "        vertical-align: middle;\n",
       "    }\n",
       "\n",
       "    .dataframe tbody tr th {\n",
       "        vertical-align: top;\n",
       "    }\n",
       "\n",
       "    .dataframe thead th {\n",
       "        text-align: right;\n",
       "    }\n",
       "</style>\n",
       "<table border=\"1\" class=\"dataframe\">\n",
       "  <thead>\n",
       "    <tr style=\"text-align: right;\">\n",
       "      <th></th>\n",
       "      <th>play_id</th>\n",
       "      <th>game_id</th>\n",
       "      <th>home_team</th>\n",
       "      <th>away_team</th>\n",
       "      <th>posteam</th>\n",
       "      <th>posteam_type</th>\n",
       "      <th>defteam</th>\n",
       "      <th>side_of_field</th>\n",
       "      <th>yardline_100</th>\n",
       "      <th>game_date</th>\n",
       "      <th>...</th>\n",
       "      <th>penalty_player_id</th>\n",
       "      <th>penalty_player_name</th>\n",
       "      <th>penalty_yards</th>\n",
       "      <th>replay_or_challenge</th>\n",
       "      <th>replay_or_challenge_result</th>\n",
       "      <th>penalty_type</th>\n",
       "      <th>defensive_two_point_attempt</th>\n",
       "      <th>defensive_two_point_conv</th>\n",
       "      <th>defensive_extra_point_attempt</th>\n",
       "      <th>defensive_extra_point_conv</th>\n",
       "    </tr>\n",
       "  </thead>\n",
       "  <tbody>\n",
       "    <tr>\n",
       "      <th>0</th>\n",
       "      <td>46</td>\n",
       "      <td>2009091000</td>\n",
       "      <td>PIT</td>\n",
       "      <td>TEN</td>\n",
       "      <td>PIT</td>\n",
       "      <td>home</td>\n",
       "      <td>TEN</td>\n",
       "      <td>TEN</td>\n",
       "      <td>30.0</td>\n",
       "      <td>2009-09-10</td>\n",
       "      <td>...</td>\n",
       "      <td>NaN</td>\n",
       "      <td>NaN</td>\n",
       "      <td>NaN</td>\n",
       "      <td>0</td>\n",
       "      <td>NaN</td>\n",
       "      <td>NaN</td>\n",
       "      <td>0.0</td>\n",
       "      <td>0.0</td>\n",
       "      <td>0.0</td>\n",
       "      <td>0.0</td>\n",
       "    </tr>\n",
       "    <tr>\n",
       "      <th>1</th>\n",
       "      <td>68</td>\n",
       "      <td>2009091000</td>\n",
       "      <td>PIT</td>\n",
       "      <td>TEN</td>\n",
       "      <td>PIT</td>\n",
       "      <td>home</td>\n",
       "      <td>TEN</td>\n",
       "      <td>PIT</td>\n",
       "      <td>58.0</td>\n",
       "      <td>2009-09-10</td>\n",
       "      <td>...</td>\n",
       "      <td>NaN</td>\n",
       "      <td>NaN</td>\n",
       "      <td>NaN</td>\n",
       "      <td>0</td>\n",
       "      <td>NaN</td>\n",
       "      <td>NaN</td>\n",
       "      <td>0.0</td>\n",
       "      <td>0.0</td>\n",
       "      <td>0.0</td>\n",
       "      <td>0.0</td>\n",
       "    </tr>\n",
       "    <tr>\n",
       "      <th>2</th>\n",
       "      <td>92</td>\n",
       "      <td>2009091000</td>\n",
       "      <td>PIT</td>\n",
       "      <td>TEN</td>\n",
       "      <td>PIT</td>\n",
       "      <td>home</td>\n",
       "      <td>TEN</td>\n",
       "      <td>PIT</td>\n",
       "      <td>53.0</td>\n",
       "      <td>2009-09-10</td>\n",
       "      <td>...</td>\n",
       "      <td>NaN</td>\n",
       "      <td>NaN</td>\n",
       "      <td>NaN</td>\n",
       "      <td>0</td>\n",
       "      <td>NaN</td>\n",
       "      <td>NaN</td>\n",
       "      <td>0.0</td>\n",
       "      <td>0.0</td>\n",
       "      <td>0.0</td>\n",
       "      <td>0.0</td>\n",
       "    </tr>\n",
       "    <tr>\n",
       "      <th>3</th>\n",
       "      <td>113</td>\n",
       "      <td>2009091000</td>\n",
       "      <td>PIT</td>\n",
       "      <td>TEN</td>\n",
       "      <td>PIT</td>\n",
       "      <td>home</td>\n",
       "      <td>TEN</td>\n",
       "      <td>PIT</td>\n",
       "      <td>56.0</td>\n",
       "      <td>2009-09-10</td>\n",
       "      <td>...</td>\n",
       "      <td>NaN</td>\n",
       "      <td>NaN</td>\n",
       "      <td>NaN</td>\n",
       "      <td>0</td>\n",
       "      <td>NaN</td>\n",
       "      <td>NaN</td>\n",
       "      <td>0.0</td>\n",
       "      <td>0.0</td>\n",
       "      <td>0.0</td>\n",
       "      <td>0.0</td>\n",
       "    </tr>\n",
       "    <tr>\n",
       "      <th>4</th>\n",
       "      <td>139</td>\n",
       "      <td>2009091000</td>\n",
       "      <td>PIT</td>\n",
       "      <td>TEN</td>\n",
       "      <td>PIT</td>\n",
       "      <td>home</td>\n",
       "      <td>TEN</td>\n",
       "      <td>PIT</td>\n",
       "      <td>56.0</td>\n",
       "      <td>2009-09-10</td>\n",
       "      <td>...</td>\n",
       "      <td>NaN</td>\n",
       "      <td>NaN</td>\n",
       "      <td>NaN</td>\n",
       "      <td>0</td>\n",
       "      <td>NaN</td>\n",
       "      <td>NaN</td>\n",
       "      <td>0.0</td>\n",
       "      <td>0.0</td>\n",
       "      <td>0.0</td>\n",
       "      <td>0.0</td>\n",
       "    </tr>\n",
       "  </tbody>\n",
       "</table>\n",
       "<p>5 rows × 255 columns</p>\n",
       "</div>"
      ],
      "text/plain": [
       "   play_id     game_id home_team away_team posteam posteam_type defteam  \\\n",
       "0       46  2009091000       PIT       TEN     PIT         home     TEN   \n",
       "1       68  2009091000       PIT       TEN     PIT         home     TEN   \n",
       "2       92  2009091000       PIT       TEN     PIT         home     TEN   \n",
       "3      113  2009091000       PIT       TEN     PIT         home     TEN   \n",
       "4      139  2009091000       PIT       TEN     PIT         home     TEN   \n",
       "\n",
       "  side_of_field  yardline_100   game_date  ...  penalty_player_id  \\\n",
       "0           TEN          30.0  2009-09-10  ...                NaN   \n",
       "1           PIT          58.0  2009-09-10  ...                NaN   \n",
       "2           PIT          53.0  2009-09-10  ...                NaN   \n",
       "3           PIT          56.0  2009-09-10  ...                NaN   \n",
       "4           PIT          56.0  2009-09-10  ...                NaN   \n",
       "\n",
       "   penalty_player_name  penalty_yards replay_or_challenge  \\\n",
       "0                  NaN            NaN                   0   \n",
       "1                  NaN            NaN                   0   \n",
       "2                  NaN            NaN                   0   \n",
       "3                  NaN            NaN                   0   \n",
       "4                  NaN            NaN                   0   \n",
       "\n",
       "   replay_or_challenge_result  penalty_type  defensive_two_point_attempt  \\\n",
       "0                         NaN           NaN                          0.0   \n",
       "1                         NaN           NaN                          0.0   \n",
       "2                         NaN           NaN                          0.0   \n",
       "3                         NaN           NaN                          0.0   \n",
       "4                         NaN           NaN                          0.0   \n",
       "\n",
       "   defensive_two_point_conv  defensive_extra_point_attempt  \\\n",
       "0                       0.0                            0.0   \n",
       "1                       0.0                            0.0   \n",
       "2                       0.0                            0.0   \n",
       "3                       0.0                            0.0   \n",
       "4                       0.0                            0.0   \n",
       "\n",
       "   defensive_extra_point_conv  \n",
       "0                         0.0  \n",
       "1                         0.0  \n",
       "2                         0.0  \n",
       "3                         0.0  \n",
       "4                         0.0  \n",
       "\n",
       "[5 rows x 255 columns]"
      ]
     },
     "execution_count": 89,
     "metadata": {},
     "output_type": "execute_result"
    }
   ],
   "source": [
    "import pandas as pd\n",
    "import matplotlib.pyplot as plt\n",
    "import numpy as np\n",
    "import pickle\n",
    "import warnings \n",
    "warnings.filterwarnings(\"ignore\")\n",
    "\n",
    "from sklearn.preprocessing import RobustScaler, MinMaxScaler, StandardScaler\n",
    "\n",
    "#divisao treino e teste\n",
    "from sklearn.model_selection import train_test_split\n",
    "\n",
    "#modelos\n",
    "from sklearn.svm import SVC\n",
    "from sklearn.linear_model import LogisticRegression\n",
    "from sklearn.ensemble import RandomForestClassifier\n",
    "from sklearn.tree import DecisionTreeClassifier\n",
    "from sklearn.ensemble import GradientBoostingClassifier\n",
    "from sklearn.neural_network import MLPClassifier\n",
    "from sklearn import linear_model\n",
    "from sklearn.neighbors import KNeighborsClassifier\n",
    "from sklearn.naive_bayes import GaussianNB\n",
    "\n",
    "\n",
    "\n",
    "#metricas\n",
    "from sklearn.metrics import accuracy_score, classification_report, roc_curve\n",
    "\n",
    "#validacao\n",
    "from sklearn.model_selection import cross_val_score\n",
    "from sklearn.model_selection import GridSearchCV\n",
    "\n",
    "df = pd.read_csv(\"NFL Play by Play 2009-2018 (v5).csv\")\n",
    "\n",
    "df.head()"
   ]
  },
  {
   "cell_type": "code",
   "execution_count": 90,
   "metadata": {},
   "outputs": [
    {
     "data": {
      "text/html": [
       "<div>\n",
       "<style scoped>\n",
       "    .dataframe tbody tr th:only-of-type {\n",
       "        vertical-align: middle;\n",
       "    }\n",
       "\n",
       "    .dataframe tbody tr th {\n",
       "        vertical-align: top;\n",
       "    }\n",
       "\n",
       "    .dataframe thead th {\n",
       "        text-align: right;\n",
       "    }\n",
       "</style>\n",
       "<table border=\"1\" class=\"dataframe\">\n",
       "  <thead>\n",
       "    <tr style=\"text-align: right;\">\n",
       "      <th></th>\n",
       "      <th>game_id</th>\n",
       "      <th>qtr</th>\n",
       "      <th>posteam</th>\n",
       "      <th>RushingMean</th>\n",
       "      <th>PassingMean</th>\n",
       "    </tr>\n",
       "  </thead>\n",
       "  <tbody>\n",
       "    <tr>\n",
       "      <th>0</th>\n",
       "      <td>2009091000</td>\n",
       "      <td>1</td>\n",
       "      <td>PIT</td>\n",
       "      <td>0.333333</td>\n",
       "      <td>-0.125000</td>\n",
       "    </tr>\n",
       "    <tr>\n",
       "      <th>1</th>\n",
       "      <td>2009091000</td>\n",
       "      <td>1</td>\n",
       "      <td>TEN</td>\n",
       "      <td>6.166667</td>\n",
       "      <td>6.222222</td>\n",
       "    </tr>\n",
       "    <tr>\n",
       "      <th>2</th>\n",
       "      <td>2009091000</td>\n",
       "      <td>2</td>\n",
       "      <td>PIT</td>\n",
       "      <td>2.500000</td>\n",
       "      <td>9.062500</td>\n",
       "    </tr>\n",
       "    <tr>\n",
       "      <th>3</th>\n",
       "      <td>2009091000</td>\n",
       "      <td>2</td>\n",
       "      <td>TEN</td>\n",
       "      <td>1.400000</td>\n",
       "      <td>8.307692</td>\n",
       "    </tr>\n",
       "    <tr>\n",
       "      <th>4</th>\n",
       "      <td>2009091000</td>\n",
       "      <td>3</td>\n",
       "      <td>PIT</td>\n",
       "      <td>2.000000</td>\n",
       "      <td>3.000000</td>\n",
       "    </tr>\n",
       "  </tbody>\n",
       "</table>\n",
       "</div>"
      ],
      "text/plain": [
       "      game_id  qtr posteam  RushingMean  PassingMean\n",
       "0  2009091000    1     PIT     0.333333    -0.125000\n",
       "1  2009091000    1     TEN     6.166667     6.222222\n",
       "2  2009091000    2     PIT     2.500000     9.062500\n",
       "3  2009091000    2     TEN     1.400000     8.307692\n",
       "4  2009091000    3     PIT     2.000000     3.000000"
      ]
     },
     "execution_count": 90,
     "metadata": {},
     "output_type": "execute_result"
    }
   ],
   "source": [
    "r_off_agg = df[(df.play_type == 'run')]\n",
    "p_off_agg = df[(df.play_type == 'pass')|(df.play_type == 'sack')]\n",
    "\n",
    "r_off_agg = r_off_agg.groupby(['game_id','qtr','posteam'])['yards_gained'].mean().reset_index()\n",
    "p_off_agg = p_off_agg.groupby(['game_id','qtr','posteam'])['yards_gained'].mean().reset_index()\n",
    "\n",
    "r_off_agg = r_off_agg.rename(columns={'yards_gained':'RushingMean'})\n",
    "p_off_agg = p_off_agg.rename(columns={'yards_gained':'PassingMean'})\n",
    "\n",
    "off_agg = pd.merge(r_off_agg, p_off_agg, left_on=['game_id','qtr','posteam'], right_on=['game_id','qtr','posteam'], how='outer')\n",
    "\n",
    "off_agg.head()\n",
    "\n"
   ]
  },
  {
   "cell_type": "code",
   "execution_count": 91,
   "metadata": {},
   "outputs": [],
   "source": [
    "df = df.merge(off_agg)"
   ]
  },
  {
   "cell_type": "code",
   "execution_count": 92,
   "metadata": {},
   "outputs": [
    {
     "name": "stdout",
     "output_type": "stream",
     "text": [
      "<class 'pandas.core.frame.DataFrame'>\n",
      "Int64Index: 436122 entries, 0 to 436121\n",
      "Columns: 257 entries, play_id to PassingMean\n",
      "dtypes: float64(137), int64(18), object(102)\n",
      "memory usage: 858.5+ MB\n"
     ]
    }
   ],
   "source": [
    "df.info()"
   ]
  },
  {
   "cell_type": "code",
   "execution_count": 93,
   "metadata": {},
   "outputs": [
    {
     "data": {
      "text/html": [
       "<div>\n",
       "<style scoped>\n",
       "    .dataframe tbody tr th:only-of-type {\n",
       "        vertical-align: middle;\n",
       "    }\n",
       "\n",
       "    .dataframe tbody tr th {\n",
       "        vertical-align: top;\n",
       "    }\n",
       "\n",
       "    .dataframe thead th {\n",
       "        text-align: right;\n",
       "    }\n",
       "</style>\n",
       "<table border=\"1\" class=\"dataframe\">\n",
       "  <thead>\n",
       "    <tr style=\"text-align: right;\">\n",
       "      <th></th>\n",
       "      <th>qtr</th>\n",
       "      <th>yardline_100</th>\n",
       "      <th>ydstogo</th>\n",
       "      <th>half_seconds_remaining</th>\n",
       "      <th>down</th>\n",
       "      <th>score_differential</th>\n",
       "      <th>posteam</th>\n",
       "      <th>posteam_type</th>\n",
       "      <th>play_type</th>\n",
       "      <th>game_seconds_remaining</th>\n",
       "      <th>posteam_timeouts_remaining</th>\n",
       "      <th>PassingMean</th>\n",
       "      <th>RushingMean</th>\n",
       "    </tr>\n",
       "  </thead>\n",
       "  <tbody>\n",
       "    <tr>\n",
       "      <th>0</th>\n",
       "      <td>1</td>\n",
       "      <td>30.0</td>\n",
       "      <td>0</td>\n",
       "      <td>1800.0</td>\n",
       "      <td>NaN</td>\n",
       "      <td>NaN</td>\n",
       "      <td>PIT</td>\n",
       "      <td>home</td>\n",
       "      <td>kickoff</td>\n",
       "      <td>3600.0</td>\n",
       "      <td>3.0</td>\n",
       "      <td>-0.125</td>\n",
       "      <td>0.333333</td>\n",
       "    </tr>\n",
       "    <tr>\n",
       "      <th>1</th>\n",
       "      <td>1</td>\n",
       "      <td>58.0</td>\n",
       "      <td>10</td>\n",
       "      <td>1793.0</td>\n",
       "      <td>1.0</td>\n",
       "      <td>0.0</td>\n",
       "      <td>PIT</td>\n",
       "      <td>home</td>\n",
       "      <td>pass</td>\n",
       "      <td>3593.0</td>\n",
       "      <td>3.0</td>\n",
       "      <td>-0.125</td>\n",
       "      <td>0.333333</td>\n",
       "    </tr>\n",
       "    <tr>\n",
       "      <th>2</th>\n",
       "      <td>1</td>\n",
       "      <td>53.0</td>\n",
       "      <td>5</td>\n",
       "      <td>1756.0</td>\n",
       "      <td>2.0</td>\n",
       "      <td>0.0</td>\n",
       "      <td>PIT</td>\n",
       "      <td>home</td>\n",
       "      <td>run</td>\n",
       "      <td>3556.0</td>\n",
       "      <td>3.0</td>\n",
       "      <td>-0.125</td>\n",
       "      <td>0.333333</td>\n",
       "    </tr>\n",
       "    <tr>\n",
       "      <th>3</th>\n",
       "      <td>1</td>\n",
       "      <td>56.0</td>\n",
       "      <td>8</td>\n",
       "      <td>1715.0</td>\n",
       "      <td>3.0</td>\n",
       "      <td>0.0</td>\n",
       "      <td>PIT</td>\n",
       "      <td>home</td>\n",
       "      <td>pass</td>\n",
       "      <td>3515.0</td>\n",
       "      <td>3.0</td>\n",
       "      <td>-0.125</td>\n",
       "      <td>0.333333</td>\n",
       "    </tr>\n",
       "    <tr>\n",
       "      <th>4</th>\n",
       "      <td>1</td>\n",
       "      <td>56.0</td>\n",
       "      <td>8</td>\n",
       "      <td>1707.0</td>\n",
       "      <td>4.0</td>\n",
       "      <td>0.0</td>\n",
       "      <td>PIT</td>\n",
       "      <td>home</td>\n",
       "      <td>punt</td>\n",
       "      <td>3507.0</td>\n",
       "      <td>3.0</td>\n",
       "      <td>-0.125</td>\n",
       "      <td>0.333333</td>\n",
       "    </tr>\n",
       "  </tbody>\n",
       "</table>\n",
       "</div>"
      ],
      "text/plain": [
       "   qtr  yardline_100  ydstogo  half_seconds_remaining  down  \\\n",
       "0    1          30.0        0                  1800.0   NaN   \n",
       "1    1          58.0       10                  1793.0   1.0   \n",
       "2    1          53.0        5                  1756.0   2.0   \n",
       "3    1          56.0        8                  1715.0   3.0   \n",
       "4    1          56.0        8                  1707.0   4.0   \n",
       "\n",
       "   score_differential posteam posteam_type play_type  game_seconds_remaining  \\\n",
       "0                 NaN     PIT         home   kickoff                  3600.0   \n",
       "1                 0.0     PIT         home      pass                  3593.0   \n",
       "2                 0.0     PIT         home       run                  3556.0   \n",
       "3                 0.0     PIT         home      pass                  3515.0   \n",
       "4                 0.0     PIT         home      punt                  3507.0   \n",
       "\n",
       "   posteam_timeouts_remaining  PassingMean  RushingMean  \n",
       "0                         3.0       -0.125     0.333333  \n",
       "1                         3.0       -0.125     0.333333  \n",
       "2                         3.0       -0.125     0.333333  \n",
       "3                         3.0       -0.125     0.333333  \n",
       "4                         3.0       -0.125     0.333333  "
      ]
     },
     "execution_count": 93,
     "metadata": {},
     "output_type": "execute_result"
    }
   ],
   "source": [
    "df = df[[\"qtr\", \"yardline_100\", \"ydstogo\", \"half_seconds_remaining\",\"down\",\"score_differential\",\"posteam\",\"posteam_type\",\"play_type\",\"game_seconds_remaining\",\"posteam_timeouts_remaining\",\"PassingMean\",\"RushingMean\"]]\n",
    "df.head()"
   ]
  },
  {
   "cell_type": "code",
   "execution_count": 94,
   "metadata": {},
   "outputs": [
    {
     "data": {
      "text/plain": [
       "qtr                           0\n",
       "yardline_100                  0\n",
       "ydstogo                       0\n",
       "half_seconds_remaining        0\n",
       "down                          0\n",
       "score_differential            0\n",
       "posteam                       0\n",
       "posteam_type                  0\n",
       "play_type                     0\n",
       "game_seconds_remaining        0\n",
       "posteam_timeouts_remaining    0\n",
       "PassingMean                   0\n",
       "RushingMean                   0\n",
       "dtype: int64"
      ]
     },
     "execution_count": 94,
     "metadata": {},
     "output_type": "execute_result"
    }
   ],
   "source": [
    "df = df.dropna()\n",
    "df.isnull().sum()"
   ]
  },
  {
   "cell_type": "code",
   "execution_count": 95,
   "metadata": {},
   "outputs": [
    {
     "data": {
      "text/plain": [
       "qtr                              5\n",
       "yardline_100                    99\n",
       "ydstogo                         47\n",
       "half_seconds_remaining        1801\n",
       "down                             4\n",
       "score_differential             109\n",
       "posteam                         35\n",
       "posteam_type                     2\n",
       "play_type                        7\n",
       "game_seconds_remaining        3601\n",
       "posteam_timeouts_remaining       4\n",
       "PassingMean                   1780\n",
       "RushingMean                    877\n",
       "dtype: int64"
      ]
     },
     "execution_count": 95,
     "metadata": {},
     "output_type": "execute_result"
    }
   ],
   "source": [
    "df.nunique()"
   ]
  },
  {
   "cell_type": "code",
   "execution_count": 96,
   "metadata": {},
   "outputs": [],
   "source": [
    "def shorten_categories(categories, cutoff):\n",
    "    categorical_map = {}\n",
    "    for i in range(len(categories)):\n",
    "        if categories.values[i] >= cutoff:\n",
    "            categorical_map[categories.index[i]] = categories.index[i]\n",
    "        else:\n",
    "            categorical_map[categories.index[i]] = 'NaN'\n",
    "    return categorical_map"
   ]
  },
  {
   "cell_type": "code",
   "execution_count": 97,
   "metadata": {},
   "outputs": [
    {
     "data": {
      "text/plain": [
       "pass    183949\n",
       "run     131843\n",
       "NaN      61650\n",
       "Name: play_type, dtype: int64"
      ]
     },
     "execution_count": 97,
     "metadata": {},
     "output_type": "execute_result"
    }
   ],
   "source": [
    "country_map = shorten_categories(df.play_type.value_counts(), 100000)\n",
    "df['play_type'] = df['play_type'].map(country_map)\n",
    "df.play_type.value_counts()"
   ]
  },
  {
   "cell_type": "code",
   "execution_count": 98,
   "metadata": {},
   "outputs": [],
   "source": [
    "df =  df[df.play_type != 'NaN']"
   ]
  },
  {
   "cell_type": "code",
   "execution_count": 99,
   "metadata": {},
   "outputs": [
    {
     "data": {
      "text/plain": [
       "qtr                              5\n",
       "yardline_100                    99\n",
       "ydstogo                         46\n",
       "half_seconds_remaining        1801\n",
       "down                             4\n",
       "score_differential             108\n",
       "posteam                         35\n",
       "posteam_type                     2\n",
       "play_type                        2\n",
       "game_seconds_remaining        3601\n",
       "posteam_timeouts_remaining       4\n",
       "PassingMean                   1780\n",
       "RushingMean                    877\n",
       "dtype: int64"
      ]
     },
     "execution_count": 99,
     "metadata": {},
     "output_type": "execute_result"
    }
   ],
   "source": [
    "df.nunique()"
   ]
  },
  {
   "cell_type": "code",
   "execution_count": 100,
   "metadata": {},
   "outputs": [
    {
     "name": "stdout",
     "output_type": "stream",
     "text": [
      "<class 'pandas.core.frame.DataFrame'>\n",
      "Int64Index: 315792 entries, 1 to 436121\n",
      "Data columns (total 13 columns):\n",
      " #   Column                      Non-Null Count   Dtype  \n",
      "---  ------                      --------------   -----  \n",
      " 0   qtr                         315792 non-null  int64  \n",
      " 1   yardline_100                315792 non-null  float64\n",
      " 2   ydstogo                     315792 non-null  int64  \n",
      " 3   half_seconds_remaining      315792 non-null  float64\n",
      " 4   down                        315792 non-null  float64\n",
      " 5   score_differential          315792 non-null  float64\n",
      " 6   posteam                     315792 non-null  object \n",
      " 7   posteam_type                315792 non-null  object \n",
      " 8   play_type                   315792 non-null  object \n",
      " 9   game_seconds_remaining      315792 non-null  float64\n",
      " 10  posteam_timeouts_remaining  315792 non-null  float64\n",
      " 11  PassingMean                 315792 non-null  float64\n",
      " 12  RushingMean                 315792 non-null  float64\n",
      "dtypes: float64(8), int64(2), object(3)\n",
      "memory usage: 33.7+ MB\n"
     ]
    }
   ],
   "source": [
    "df.info()\n"
   ]
  },
  {
   "cell_type": "code",
   "execution_count": 101,
   "metadata": {},
   "outputs": [
    {
     "data": {
      "text/plain": [
       "qtr                           0\n",
       "yardline_100                  0\n",
       "ydstogo                       0\n",
       "half_seconds_remaining        0\n",
       "down                          0\n",
       "score_differential            0\n",
       "posteam                       0\n",
       "posteam_type                  0\n",
       "play_type                     0\n",
       "game_seconds_remaining        0\n",
       "posteam_timeouts_remaining    0\n",
       "PassingMean                   0\n",
       "RushingMean                   0\n",
       "dtype: int64"
      ]
     },
     "execution_count": 101,
     "metadata": {},
     "output_type": "execute_result"
    }
   ],
   "source": [
    "df = df.dropna()\n",
    "df.isnull().sum()"
   ]
  },
  {
   "cell_type": "code",
   "execution_count": 102,
   "metadata": {},
   "outputs": [
    {
     "name": "stdout",
     "output_type": "stream",
     "text": [
      "<class 'pandas.core.frame.DataFrame'>\n",
      "Int64Index: 315792 entries, 1 to 436121\n",
      "Data columns (total 13 columns):\n",
      " #   Column                      Non-Null Count   Dtype  \n",
      "---  ------                      --------------   -----  \n",
      " 0   qtr                         315792 non-null  int64  \n",
      " 1   yardline_100                315792 non-null  float64\n",
      " 2   ydstogo                     315792 non-null  int64  \n",
      " 3   half_seconds_remaining      315792 non-null  float64\n",
      " 4   down                        315792 non-null  float64\n",
      " 5   score_differential          315792 non-null  float64\n",
      " 6   posteam                     315792 non-null  object \n",
      " 7   posteam_type                315792 non-null  object \n",
      " 8   play_type                   315792 non-null  object \n",
      " 9   game_seconds_remaining      315792 non-null  float64\n",
      " 10  posteam_timeouts_remaining  315792 non-null  float64\n",
      " 11  PassingMean                 315792 non-null  float64\n",
      " 12  RushingMean                 315792 non-null  float64\n",
      "dtypes: float64(8), int64(2), object(3)\n",
      "memory usage: 33.7+ MB\n"
     ]
    }
   ],
   "source": [
    "df.info()"
   ]
  },
  {
   "cell_type": "code",
   "execution_count": 103,
   "metadata": {},
   "outputs": [
    {
     "data": {
      "text/html": [
       "<div>\n",
       "<style scoped>\n",
       "    .dataframe tbody tr th:only-of-type {\n",
       "        vertical-align: middle;\n",
       "    }\n",
       "\n",
       "    .dataframe tbody tr th {\n",
       "        vertical-align: top;\n",
       "    }\n",
       "\n",
       "    .dataframe thead th {\n",
       "        text-align: right;\n",
       "    }\n",
       "</style>\n",
       "<table border=\"1\" class=\"dataframe\">\n",
       "  <thead>\n",
       "    <tr style=\"text-align: right;\">\n",
       "      <th></th>\n",
       "      <th>qtr</th>\n",
       "      <th>yardline_100</th>\n",
       "      <th>ydstogo</th>\n",
       "      <th>half_seconds_remaining</th>\n",
       "      <th>down</th>\n",
       "      <th>score_differential</th>\n",
       "      <th>posteam</th>\n",
       "      <th>posteam_type</th>\n",
       "      <th>play_type</th>\n",
       "      <th>game_seconds_remaining</th>\n",
       "      <th>posteam_timeouts_remaining</th>\n",
       "      <th>PassingMean</th>\n",
       "      <th>RushingMean</th>\n",
       "    </tr>\n",
       "  </thead>\n",
       "  <tbody>\n",
       "    <tr>\n",
       "      <th>1</th>\n",
       "      <td>1</td>\n",
       "      <td>58.0</td>\n",
       "      <td>10</td>\n",
       "      <td>1793.0</td>\n",
       "      <td>1.0</td>\n",
       "      <td>0.0</td>\n",
       "      <td>PIT</td>\n",
       "      <td>home</td>\n",
       "      <td>pass</td>\n",
       "      <td>3593.0</td>\n",
       "      <td>3.0</td>\n",
       "      <td>-0.125</td>\n",
       "      <td>0.333333</td>\n",
       "    </tr>\n",
       "    <tr>\n",
       "      <th>2</th>\n",
       "      <td>1</td>\n",
       "      <td>53.0</td>\n",
       "      <td>5</td>\n",
       "      <td>1756.0</td>\n",
       "      <td>2.0</td>\n",
       "      <td>0.0</td>\n",
       "      <td>PIT</td>\n",
       "      <td>home</td>\n",
       "      <td>run</td>\n",
       "      <td>3556.0</td>\n",
       "      <td>3.0</td>\n",
       "      <td>-0.125</td>\n",
       "      <td>0.333333</td>\n",
       "    </tr>\n",
       "    <tr>\n",
       "      <th>3</th>\n",
       "      <td>1</td>\n",
       "      <td>56.0</td>\n",
       "      <td>8</td>\n",
       "      <td>1715.0</td>\n",
       "      <td>3.0</td>\n",
       "      <td>0.0</td>\n",
       "      <td>PIT</td>\n",
       "      <td>home</td>\n",
       "      <td>pass</td>\n",
       "      <td>3515.0</td>\n",
       "      <td>3.0</td>\n",
       "      <td>-0.125</td>\n",
       "      <td>0.333333</td>\n",
       "    </tr>\n",
       "    <tr>\n",
       "      <th>5</th>\n",
       "      <td>1</td>\n",
       "      <td>43.0</td>\n",
       "      <td>10</td>\n",
       "      <td>1584.0</td>\n",
       "      <td>1.0</td>\n",
       "      <td>0.0</td>\n",
       "      <td>PIT</td>\n",
       "      <td>home</td>\n",
       "      <td>pass</td>\n",
       "      <td>3384.0</td>\n",
       "      <td>3.0</td>\n",
       "      <td>-0.125</td>\n",
       "      <td>0.333333</td>\n",
       "    </tr>\n",
       "    <tr>\n",
       "      <th>6</th>\n",
       "      <td>1</td>\n",
       "      <td>40.0</td>\n",
       "      <td>7</td>\n",
       "      <td>1548.0</td>\n",
       "      <td>2.0</td>\n",
       "      <td>0.0</td>\n",
       "      <td>PIT</td>\n",
       "      <td>home</td>\n",
       "      <td>pass</td>\n",
       "      <td>3348.0</td>\n",
       "      <td>3.0</td>\n",
       "      <td>-0.125</td>\n",
       "      <td>0.333333</td>\n",
       "    </tr>\n",
       "  </tbody>\n",
       "</table>\n",
       "</div>"
      ],
      "text/plain": [
       "   qtr  yardline_100  ydstogo  half_seconds_remaining  down  \\\n",
       "1    1          58.0       10                  1793.0   1.0   \n",
       "2    1          53.0        5                  1756.0   2.0   \n",
       "3    1          56.0        8                  1715.0   3.0   \n",
       "5    1          43.0       10                  1584.0   1.0   \n",
       "6    1          40.0        7                  1548.0   2.0   \n",
       "\n",
       "   score_differential posteam posteam_type play_type  game_seconds_remaining  \\\n",
       "1                 0.0     PIT         home      pass                  3593.0   \n",
       "2                 0.0     PIT         home       run                  3556.0   \n",
       "3                 0.0     PIT         home      pass                  3515.0   \n",
       "5                 0.0     PIT         home      pass                  3384.0   \n",
       "6                 0.0     PIT         home      pass                  3348.0   \n",
       "\n",
       "   posteam_timeouts_remaining  PassingMean  RushingMean  \n",
       "1                         3.0       -0.125     0.333333  \n",
       "2                         3.0       -0.125     0.333333  \n",
       "3                         3.0       -0.125     0.333333  \n",
       "5                         3.0       -0.125     0.333333  \n",
       "6                         3.0       -0.125     0.333333  "
      ]
     },
     "execution_count": 103,
     "metadata": {},
     "output_type": "execute_result"
    }
   ],
   "source": [
    "df.head()"
   ]
  },
  {
   "cell_type": "code",
   "execution_count": 104,
   "metadata": {},
   "outputs": [],
   "source": [
    "n = 200000\n",
    "df.drop(index=df.index[:n],inplace=True)"
   ]
  },
  {
   "cell_type": "code",
   "execution_count": 105,
   "metadata": {},
   "outputs": [
    {
     "name": "stdout",
     "output_type": "stream",
     "text": [
      "<class 'pandas.core.frame.DataFrame'>\n",
      "Int64Index: 115792 entries, 276133 to 436121\n",
      "Data columns (total 13 columns):\n",
      " #   Column                      Non-Null Count   Dtype  \n",
      "---  ------                      --------------   -----  \n",
      " 0   qtr                         115792 non-null  int64  \n",
      " 1   yardline_100                115792 non-null  float64\n",
      " 2   ydstogo                     115792 non-null  int64  \n",
      " 3   half_seconds_remaining      115792 non-null  float64\n",
      " 4   down                        115792 non-null  float64\n",
      " 5   score_differential          115792 non-null  float64\n",
      " 6   posteam                     115792 non-null  object \n",
      " 7   posteam_type                115792 non-null  object \n",
      " 8   play_type                   115792 non-null  object \n",
      " 9   game_seconds_remaining      115792 non-null  float64\n",
      " 10  posteam_timeouts_remaining  115792 non-null  float64\n",
      " 11  PassingMean                 115792 non-null  float64\n",
      " 12  RushingMean                 115792 non-null  float64\n",
      "dtypes: float64(8), int64(2), object(3)\n",
      "memory usage: 12.4+ MB\n"
     ]
    }
   ],
   "source": [
    "df.info()"
   ]
  },
  {
   "cell_type": "code",
   "execution_count": 106,
   "metadata": {},
   "outputs": [
    {
     "data": {
      "text/html": [
       "<div>\n",
       "<style scoped>\n",
       "    .dataframe tbody tr th:only-of-type {\n",
       "        vertical-align: middle;\n",
       "    }\n",
       "\n",
       "    .dataframe tbody tr th {\n",
       "        vertical-align: top;\n",
       "    }\n",
       "\n",
       "    .dataframe thead th {\n",
       "        text-align: right;\n",
       "    }\n",
       "</style>\n",
       "<table border=\"1\" class=\"dataframe\">\n",
       "  <thead>\n",
       "    <tr style=\"text-align: right;\">\n",
       "      <th></th>\n",
       "      <th>qtr</th>\n",
       "      <th>yardline_100</th>\n",
       "      <th>ydstogo</th>\n",
       "      <th>half_seconds_remaining</th>\n",
       "      <th>down</th>\n",
       "      <th>score_differential</th>\n",
       "      <th>posteam</th>\n",
       "      <th>posteam_type</th>\n",
       "      <th>play_type</th>\n",
       "      <th>game_seconds_remaining</th>\n",
       "      <th>posteam_timeouts_remaining</th>\n",
       "      <th>PassingMean</th>\n",
       "      <th>RushingMean</th>\n",
       "    </tr>\n",
       "  </thead>\n",
       "  <tbody>\n",
       "    <tr>\n",
       "      <th>276133</th>\n",
       "      <td>4</td>\n",
       "      <td>45.0</td>\n",
       "      <td>9</td>\n",
       "      <td>390.0</td>\n",
       "      <td>2.0</td>\n",
       "      <td>-21.0</td>\n",
       "      <td>DAL</td>\n",
       "      <td>home</td>\n",
       "      <td>pass</td>\n",
       "      <td>390.0</td>\n",
       "      <td>3.0</td>\n",
       "      <td>5.095238</td>\n",
       "      <td>7.666667</td>\n",
       "    </tr>\n",
       "    <tr>\n",
       "      <th>276135</th>\n",
       "      <td>4</td>\n",
       "      <td>80.0</td>\n",
       "      <td>10</td>\n",
       "      <td>281.0</td>\n",
       "      <td>1.0</td>\n",
       "      <td>-24.0</td>\n",
       "      <td>DAL</td>\n",
       "      <td>home</td>\n",
       "      <td>pass</td>\n",
       "      <td>281.0</td>\n",
       "      <td>1.0</td>\n",
       "      <td>5.095238</td>\n",
       "      <td>7.666667</td>\n",
       "    </tr>\n",
       "    <tr>\n",
       "      <th>276136</th>\n",
       "      <td>4</td>\n",
       "      <td>71.0</td>\n",
       "      <td>1</td>\n",
       "      <td>255.0</td>\n",
       "      <td>2.0</td>\n",
       "      <td>-24.0</td>\n",
       "      <td>DAL</td>\n",
       "      <td>home</td>\n",
       "      <td>pass</td>\n",
       "      <td>255.0</td>\n",
       "      <td>1.0</td>\n",
       "      <td>5.095238</td>\n",
       "      <td>7.666667</td>\n",
       "    </tr>\n",
       "    <tr>\n",
       "      <th>276137</th>\n",
       "      <td>4</td>\n",
       "      <td>67.0</td>\n",
       "      <td>10</td>\n",
       "      <td>232.0</td>\n",
       "      <td>1.0</td>\n",
       "      <td>-24.0</td>\n",
       "      <td>DAL</td>\n",
       "      <td>home</td>\n",
       "      <td>pass</td>\n",
       "      <td>232.0</td>\n",
       "      <td>1.0</td>\n",
       "      <td>5.095238</td>\n",
       "      <td>7.666667</td>\n",
       "    </tr>\n",
       "    <tr>\n",
       "      <th>276138</th>\n",
       "      <td>4</td>\n",
       "      <td>57.0</td>\n",
       "      <td>10</td>\n",
       "      <td>203.0</td>\n",
       "      <td>1.0</td>\n",
       "      <td>-24.0</td>\n",
       "      <td>DAL</td>\n",
       "      <td>home</td>\n",
       "      <td>pass</td>\n",
       "      <td>203.0</td>\n",
       "      <td>1.0</td>\n",
       "      <td>5.095238</td>\n",
       "      <td>7.666667</td>\n",
       "    </tr>\n",
       "  </tbody>\n",
       "</table>\n",
       "</div>"
      ],
      "text/plain": [
       "        qtr  yardline_100  ydstogo  half_seconds_remaining  down  \\\n",
       "276133    4          45.0        9                   390.0   2.0   \n",
       "276135    4          80.0       10                   281.0   1.0   \n",
       "276136    4          71.0        1                   255.0   2.0   \n",
       "276137    4          67.0       10                   232.0   1.0   \n",
       "276138    4          57.0       10                   203.0   1.0   \n",
       "\n",
       "        score_differential posteam posteam_type play_type  \\\n",
       "276133               -21.0     DAL         home      pass   \n",
       "276135               -24.0     DAL         home      pass   \n",
       "276136               -24.0     DAL         home      pass   \n",
       "276137               -24.0     DAL         home      pass   \n",
       "276138               -24.0     DAL         home      pass   \n",
       "\n",
       "        game_seconds_remaining  posteam_timeouts_remaining  PassingMean  \\\n",
       "276133                   390.0                         3.0     5.095238   \n",
       "276135                   281.0                         1.0     5.095238   \n",
       "276136                   255.0                         1.0     5.095238   \n",
       "276137                   232.0                         1.0     5.095238   \n",
       "276138                   203.0                         1.0     5.095238   \n",
       "\n",
       "        RushingMean  \n",
       "276133     7.666667  \n",
       "276135     7.666667  \n",
       "276136     7.666667  \n",
       "276137     7.666667  \n",
       "276138     7.666667  "
      ]
     },
     "execution_count": 106,
     "metadata": {},
     "output_type": "execute_result"
    }
   ],
   "source": [
    "df.head()"
   ]
  },
  {
   "cell_type": "code",
   "execution_count": 107,
   "metadata": {},
   "outputs": [
    {
     "data": {
      "text/plain": [
       "array([ 8, 25,  9, 30, 23, 27, 28, 22,  1, 34, 24,  0, 20, 16,  3,  6, 10,\n",
       "        5,  7, 12, 14, 19, 33, 29,  4, 11,  2, 13, 21, 26, 32, 31, 17, 15,\n",
       "       18])"
      ]
     },
     "execution_count": 107,
     "metadata": {},
     "output_type": "execute_result"
    }
   ],
   "source": [
    "from sklearn.preprocessing import LabelEncoder\n",
    "le_posteam = LabelEncoder()\n",
    "df['posteam'] = le_posteam.fit_transform(df['posteam'])\n",
    "df[\"posteam\"].unique()"
   ]
  },
  {
   "cell_type": "code",
   "execution_count": 108,
   "metadata": {},
   "outputs": [
    {
     "data": {
      "text/plain": [
       "array([1, 0])"
      ]
     },
     "execution_count": 108,
     "metadata": {},
     "output_type": "execute_result"
    }
   ],
   "source": [
    "le_posteam_type = LabelEncoder()\n",
    "df['posteam_type'] = le_posteam_type.fit_transform(df['posteam_type'])\n",
    "df[\"posteam_type\"].unique()"
   ]
  },
  {
   "cell_type": "code",
   "execution_count": 109,
   "metadata": {},
   "outputs": [],
   "source": [
    "#le_play_type = LabelEncoder()\n",
    "#df['play_type'] = le_play_type.fit_transform(df['play_type'])\n",
    "#df[\"play_type\"].unique()"
   ]
  },
  {
   "cell_type": "code",
   "execution_count": 110,
   "metadata": {},
   "outputs": [
    {
     "name": "stdout",
     "output_type": "stream",
     "text": [
      "Shape X_train (92633, 12)\n",
      "Shape X_test (23159, 12)\n",
      "Shape y_train (92633,)\n",
      "Shape y_test (23159,)\n"
     ]
    }
   ],
   "source": [
    "y = df['play_type']\n",
    "X = df.drop('play_type', axis=1)\n",
    "\n",
    "X_train, X_test, y_train, y_test = train_test_split(X,y, test_size = 0.2, random_state = 0)\n",
    "print(\"Shape X_train\", X_train.shape)\n",
    "print(\"Shape X_test\",X_test.shape)\n",
    "print(\"Shape y_train\",y_train.shape)\n",
    "print(\"Shape y_test\",y_test.shape)\n",
    "\n",
    "\n"
   ]
  },
  {
   "cell_type": "code",
   "execution_count": 111,
   "metadata": {},
   "outputs": [
    {
     "name": "stdout",
     "output_type": "stream",
     "text": [
      "A precisao do teste usando GradientBoostingClassifier foi de 69.62% \n"
     ]
    }
   ],
   "source": [
    "gbc = GradientBoostingClassifier()\n",
    "gbc.fit(X_train, y_train)\n",
    "\n",
    "gbc_predictions = gbc.predict(X_test)\n",
    "\n",
    "print(f\"A precisao do teste usando GradientBoostingClassifier foi de {accuracy_score(y_test, gbc_predictions)*100:.2f}% \")"
   ]
  },
  {
   "cell_type": "code",
   "execution_count": 112,
   "metadata": {},
   "outputs": [
    {
     "name": "stdout",
     "output_type": "stream",
     "text": [
      "A precisao do teste usando GaussianNB foi de 64.02% \n"
     ]
    }
   ],
   "source": [
    "gnb = GaussianNB()\n",
    "gnb.fit(X_train, y_train)\n",
    "\n",
    "gnb_predictions = gnb.predict(X_test)\n",
    "print(f\"A precisao do teste usando GaussianNB foi de {accuracy_score(y_test, gnb_predictions)*100:.2f}% \")"
   ]
  },
  {
   "cell_type": "code",
   "execution_count": 113,
   "metadata": {},
   "outputs": [
    {
     "name": "stdout",
     "output_type": "stream",
     "text": [
      "A precisao do teste usando DecisionTreeClassifier foi de 63.29% \n"
     ]
    }
   ],
   "source": [
    "desc_tree = DecisionTreeClassifier()\n",
    "desc_tree.fit(X_train, y_train)\n",
    "\n",
    "dt_predictions = desc_tree.predict(X_test)\n",
    "print(f\"A precisao do teste usando DecisionTreeClassifier foi de {accuracy_score(y_test, dt_predictions)*100:.2f}% \")"
   ]
  },
  {
   "cell_type": "code",
   "execution_count": 114,
   "metadata": {},
   "outputs": [
    {
     "name": "stdout",
     "output_type": "stream",
     "text": [
      "A precisao do teste usando RandomForestClassifier foi de 69.35% \n"
     ]
    }
   ],
   "source": [
    "random_forest = RandomForestClassifier(n_estimators=100)\n",
    "random_forest.fit(X_train, y_train)\n",
    "\n",
    "rf_predictions = random_forest.predict(X_test)\n",
    "print(f\"A precisao do teste usando RandomForestClassifier foi de {accuracy_score(y_test, rf_predictions)*100:.2f}% \")"
   ]
  },
  {
   "cell_type": "code",
   "execution_count": 115,
   "metadata": {},
   "outputs": [
    {
     "name": "stdout",
     "output_type": "stream",
     "text": [
      "A precisao do teste usando LogisticRegression foi de 62.32% \n"
     ]
    }
   ],
   "source": [
    "log_reg = LogisticRegression()\n",
    "log_reg.fit(X_train, y_train)\n",
    "\n",
    "lr_predictions = log_reg.predict(X_test)\n",
    "print(f\"A precisao do teste usando LogisticRegression foi de {accuracy_score(y_test, lr_predictions)*100:.2f}% \")"
   ]
  },
  {
   "cell_type": "code",
   "execution_count": 116,
   "metadata": {},
   "outputs": [
    {
     "name": "stdout",
     "output_type": "stream",
     "text": [
      "A precisao do teste usando DecisionTreeClassifier foi de 63.20% \n"
     ]
    }
   ],
   "source": [
    "desc_tree = DecisionTreeClassifier()\n",
    "desc_tree.fit(X_train, y_train)\n",
    "\n",
    "dt_predictions = desc_tree.predict(X_test)\n",
    "print(f\"A precisao do teste usando DecisionTreeClassifier foi de {accuracy_score(y_test, dt_predictions)*100:.2f}% \")\n"
   ]
  },
  {
   "cell_type": "code",
   "execution_count": 117,
   "metadata": {},
   "outputs": [
    {
     "data": {
      "text/plain": [
       "array([['4', '78', '8', '100', '2', '-7', 'DAL', 'home', '100', '1',\n",
       "        '5.3', '7.1']], dtype='<U32')"
      ]
     },
     "execution_count": 117,
     "metadata": {},
     "output_type": "execute_result"
    }
   ],
   "source": [
    "X = np.array([[4, 78, 8, 100, 2, -7, 'DAL', 'home', 100, 1, 5.3, 7.1]])\n",
    "X"
   ]
  },
  {
   "cell_type": "code",
   "execution_count": 118,
   "metadata": {},
   "outputs": [
    {
     "data": {
      "text/plain": [
       "array([[  4. ,  78. ,   8. , 100. ,   2. ,  -7. ,   8. ,   1. , 100. ,\n",
       "          1. ,   5.3,   7.1]])"
      ]
     },
     "execution_count": 118,
     "metadata": {},
     "output_type": "execute_result"
    }
   ],
   "source": [
    "X[:, 6] = le_posteam.transform(X[:,6])\n",
    "X[:, 7] = le_posteam_type.transform(X[:,7])\n",
    "X = X.astype(float)\n",
    "X"
   ]
  },
  {
   "cell_type": "code",
   "execution_count": 119,
   "metadata": {},
   "outputs": [
    {
     "data": {
      "text/plain": [
       "array(['pass'], dtype=object)"
      ]
     },
     "execution_count": 119,
     "metadata": {},
     "output_type": "execute_result"
    }
   ],
   "source": [
    "y_test = gbc.predict(X)\n",
    "y_test"
   ]
  },
  {
   "cell_type": "code",
   "execution_count": 120,
   "metadata": {},
   "outputs": [],
   "source": [
    "data = {\"model\": gbc, \"le_posteam\": le_posteam, \"le_posteam_type\": le_posteam_type}\n",
    "with open('saved_steps.pkl', 'wb') as file:\n",
    "    pickle.dump(data, file)"
   ]
  },
  {
   "cell_type": "code",
   "execution_count": 121,
   "metadata": {},
   "outputs": [],
   "source": [
    "with open('saved_steps.pkl', 'rb') as file:\n",
    "    data = pickle.load(file)\n",
    "\n",
    "gbc = data[\"model\"]\n",
    "le_posteam = data[\"le_posteam\"]\n",
    "le_posteam_type = data[\"le_posteam_type\"]"
   ]
  },
  {
   "cell_type": "code",
   "execution_count": 122,
   "metadata": {},
   "outputs": [
    {
     "data": {
      "text/plain": [
       "array(['pass'], dtype=object)"
      ]
     },
     "execution_count": 122,
     "metadata": {},
     "output_type": "execute_result"
    }
   ],
   "source": [
    "y_test = gbc.predict(X)\n",
    "y_test"
   ]
  }
 ],
 "metadata": {
  "kernelspec": {
   "display_name": "Python 3.10.8 64-bit (microsoft store)",
   "language": "python",
   "name": "python3"
  },
  "language_info": {
   "codemirror_mode": {
    "name": "ipython",
    "version": 3
   },
   "file_extension": ".py",
   "mimetype": "text/x-python",
   "name": "python",
   "nbconvert_exporter": "python",
   "pygments_lexer": "ipython3",
   "version": "3.10.8"
  },
  "orig_nbformat": 4,
  "vscode": {
   "interpreter": {
    "hash": "e9e375da22a79186ffe49072ae6df2c8be50fc2c627f3d12cad18e70942528a3"
   }
  }
 },
 "nbformat": 4,
 "nbformat_minor": 2
}
